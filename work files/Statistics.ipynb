{
 "cells": [
  {
   "cell_type": "code",
   "execution_count": 1,
   "id": "d3474764",
   "metadata": {},
   "outputs": [],
   "source": [
    "import statistics as stats"
   ]
  },
  {
   "cell_type": "code",
   "execution_count": 2,
   "id": "324352db",
   "metadata": {},
   "outputs": [
    {
     "name": "stdout",
     "output_type": "stream",
     "text": [
      "3\n",
      "2.8844991406148166\n",
      "2.769230769230769\n"
     ]
    }
   ],
   "source": [
    "x = [2,3,4]\n",
    "print(stats.mean(x))  # Arithmetic mean\n",
    "print(stats.geometric_mean(x))\n",
    "print(stats.harmonic_mean(x))"
   ]
  },
  {
   "cell_type": "code",
   "execution_count": 3,
   "id": "e3df9312",
   "metadata": {},
   "outputs": [
    {
     "name": "stdout",
     "output_type": "stream",
     "text": [
      "5\n",
      "3.9148676411688643\n",
      "3.2142857142857144\n"
     ]
    }
   ],
   "source": [
    "y =(2,3,10)\n",
    "print(stats.mean(y))\n",
    "print(stats.geometric_mean(y))\n",
    "print(stats.harmonic_mean(y))"
   ]
  },
  {
   "cell_type": "code",
   "execution_count": 4,
   "id": "39f5bcdd",
   "metadata": {},
   "outputs": [
    {
     "name": "stdout",
     "output_type": "stream",
     "text": [
      "70\n",
      "53.73134328358209\n"
     ]
    }
   ],
   "source": [
    "x = [80,100,30]\n",
    "print(stats.mean(x))\n",
    "print(stats.harmonic_mean(x))"
   ]
  },
  {
   "cell_type": "code",
   "execution_count": 5,
   "id": "684192f2",
   "metadata": {},
   "outputs": [
    {
     "name": "stdout",
     "output_type": "stream",
     "text": [
      "10\n"
     ]
    }
   ],
   "source": [
    "#mode\n",
    "x = [10,20,\"hello\",10,\"hello\",10]\n",
    "print(stats.mode(x))"
   ]
  },
  {
   "cell_type": "code",
   "execution_count": 6,
   "id": "b4f44f95",
   "metadata": {},
   "outputs": [
    {
     "name": "stdout",
     "output_type": "stream",
     "text": [
      "10\n"
     ]
    }
   ],
   "source": [
    "x = [10,20,\"hello\",10,\"hello\",10,\"hello\"]\n",
    "print(stats.mode(x))"
   ]
  },
  {
   "cell_type": "code",
   "execution_count": 7,
   "id": "f80a7c0c",
   "metadata": {},
   "outputs": [
    {
     "name": "stdout",
     "output_type": "stream",
     "text": [
      "hello\n"
     ]
    }
   ],
   "source": [
    "x = [20,\"hello\",10,\"hello\",10,10,\"hello\"]\n",
    "print(stats.mode(x))"
   ]
  },
  {
   "cell_type": "code",
   "execution_count": 8,
   "id": "a4200031",
   "metadata": {},
   "outputs": [
    {
     "name": "stdout",
     "output_type": "stream",
     "text": [
      "[10, 'hello']\n"
     ]
    }
   ],
   "source": [
    "x = [10,20,\"hello\",10,\"hello\",10,\"hello\"]\n",
    "print(stats.multimode(x))"
   ]
  },
  {
   "cell_type": "code",
   "execution_count": 9,
   "id": "139bb8b1",
   "metadata": {},
   "outputs": [
    {
     "data": {
      "text/plain": [
       "[3, 4, 6, 7, 8, 8, 10]"
      ]
     },
     "execution_count": 9,
     "metadata": {},
     "output_type": "execute_result"
    }
   ],
   "source": [
    "#median\n",
    "x = [10,7,8,4,6,3,8]\n",
    "sorted(x)"
   ]
  },
  {
   "cell_type": "code",
   "execution_count": 10,
   "id": "fc2cef5b",
   "metadata": {},
   "outputs": [
    {
     "name": "stdout",
     "output_type": "stream",
     "text": [
      "7\n"
     ]
    }
   ],
   "source": [
    "print(stats.median(x))"
   ]
  },
  {
   "cell_type": "code",
   "execution_count": 11,
   "id": "fb318992",
   "metadata": {},
   "outputs": [
    {
     "data": {
      "text/plain": [
       "[3, 4, 6, 7, 8, 8, 9, 10]"
      ]
     },
     "execution_count": 11,
     "metadata": {},
     "output_type": "execute_result"
    }
   ],
   "source": [
    "x = [10,7,8,4,6,3,8,9]\n",
    "sorted(x)"
   ]
  },
  {
   "cell_type": "code",
   "execution_count": 12,
   "id": "ac4966f7",
   "metadata": {},
   "outputs": [
    {
     "name": "stdout",
     "output_type": "stream",
     "text": [
      "7.5\n"
     ]
    }
   ],
   "source": [
    "print(stats.median(x))"
   ]
  },
  {
   "cell_type": "code",
   "execution_count": 13,
   "id": "c0d0923d",
   "metadata": {},
   "outputs": [
    {
     "name": "stdout",
     "output_type": "stream",
     "text": [
      "7\n",
      "8\n"
     ]
    }
   ],
   "source": [
    "x = [10,7,8,4,6,3,8,9]\n",
    "sorted(x)\n",
    "print(stats.median_low(x))\n",
    "print(stats.median_high(x))"
   ]
  },
  {
   "cell_type": "code",
   "execution_count": 14,
   "id": "baf58ee8",
   "metadata": {},
   "outputs": [
    {
     "name": "stdout",
     "output_type": "stream",
     "text": [
      "[37, 7, 38, 88, 38, 60, 67, 7, 26, 67, 79, 13, 42, 28, 97, 20, 23, 4, 66, 98, 64, 83, 70, 98, 16, 7, 99, 43, 30, 75, 83, 46, 17, 6, 90, 62, 45, 97, 96, 96, 40, 93, 65, 38, 67, 59, 49, 1, 39, 97]\n"
     ]
    }
   ],
   "source": [
    "import random\n",
    "x = []\n",
    "for i in range(50):\n",
    "    x.append(random.randint(1,100))\n",
    "print(x)"
   ]
  },
  {
   "cell_type": "code",
   "execution_count": 15,
   "id": "3bf65e75",
   "metadata": {},
   "outputs": [
    {
     "name": "stdout",
     "output_type": "stream",
     "text": [
      "median = 54.0\n",
      "mean = 53.52\n"
     ]
    }
   ],
   "source": [
    "print(\"median =\",stats.median(x))\n",
    "print(\"mean =\",stats.mean(x))"
   ]
  },
  {
   "cell_type": "code",
   "execution_count": 16,
   "id": "01b963cf",
   "metadata": {},
   "outputs": [
    {
     "name": "stdout",
     "output_type": "stream",
     "text": [
      "[27.5, 54.0, 83.0]\n"
     ]
    }
   ],
   "source": [
    "print(stats.quantiles(x))  # 25%, 50%, 75%"
   ]
  },
  {
   "cell_type": "code",
   "execution_count": 17,
   "id": "3bcd9dac",
   "metadata": {},
   "outputs": [],
   "source": [
    "import statistics as stats"
   ]
  },
  {
   "cell_type": "code",
   "execution_count": 18,
   "id": "0dd2a248",
   "metadata": {},
   "outputs": [],
   "source": [
    "#Outlire/Anomaly\n",
    "x = [1,2,5,3,6,3,2,5,3,-50,350]\n",
    "#iqr(inter-quantile range)\n",
    "q1,q2,q3 = stats.quantiles(x)"
   ]
  },
  {
   "cell_type": "code",
   "execution_count": 19,
   "id": "8266691d",
   "metadata": {},
   "outputs": [
    {
     "name": "stdout",
     "output_type": "stream",
     "text": [
      "3.0\n"
     ]
    }
   ],
   "source": [
    "iqr = q3-q1\n",
    "print(iqr)"
   ]
  },
  {
   "cell_type": "code",
   "execution_count": 20,
   "id": "6d6007ca",
   "metadata": {},
   "outputs": [
    {
     "name": "stdout",
     "output_type": "stream",
     "text": [
      "-2.5 9.5\n"
     ]
    }
   ],
   "source": [
    "lowbound = q1-1.5*iqr\n",
    "highbound = q3+1.5*iqr\n",
    "print(lowbound,highbound)"
   ]
  },
  {
   "cell_type": "code",
   "execution_count": 21,
   "id": "6e10175c",
   "metadata": {},
   "outputs": [
    {
     "name": "stdout",
     "output_type": "stream",
     "text": [
      "-50 is low outlire\n",
      "350 is high outlire\n"
     ]
    }
   ],
   "source": [
    "for i in x:\n",
    "    if(i<lowbound):\n",
    "        print(i,\"is low outlire\")\n",
    "    if(i>highbound):\n",
    "        print(i,\"is high outlire\")"
   ]
  },
  {
   "cell_type": "code",
   "execution_count": 22,
   "id": "3edb7860",
   "metadata": {},
   "outputs": [
    {
     "name": "stdout",
     "output_type": "stream",
     "text": [
      "[23, 36, 9, 6, 85, 77, 81, 12, 31, 91, 37, 31, 23, 18, 95, 6, 69, 85, 28, 76, 15, 21, 91, 45, 44, 18, 78, 5, 20, 80, 36, 90, 1, 44, 65, 100, 18, 54, 85, 47, 18, 59, 61, 33, 72, 55, 22, 39, 46, 14]\n"
     ]
    }
   ],
   "source": [
    "import random\n",
    "x = []\n",
    "for i in range(50):\n",
    "    x.append(random.randint(1,100))\n",
    "print(x)"
   ]
  },
  {
   "cell_type": "code",
   "execution_count": 23,
   "id": "f0c41eb5",
   "metadata": {},
   "outputs": [
    {
     "name": "stdout",
     "output_type": "stream",
     "text": [
      "[54, 44, 39, 46, 15, 80, 22, 61, 9, 47]\n"
     ]
    }
   ],
   "source": [
    "#Sample\n",
    "sample = random.sample(x,k=10)\n",
    "print(sample)"
   ]
  },
  {
   "cell_type": "code",
   "execution_count": 24,
   "id": "affe65e8",
   "metadata": {},
   "outputs": [
    {
     "name": "stdout",
     "output_type": "stream",
     "text": [
      "60\n",
      "60\n",
      "1.5811388300841898\n",
      "23.717082451262844\n"
     ]
    }
   ],
   "source": [
    "#Standard deviation(std)\n",
    "s1 = [60,59,61,58,62]\n",
    "s2 = [45,75,90,30,60]\n",
    "print(stats.mean(s1))\n",
    "print(stats.mean(s2))\n",
    "print(stats.stdev(s1))\n",
    "print(stats.stdev(s2))"
   ]
  },
  {
   "cell_type": "code",
   "execution_count": 25,
   "id": "ac93b4cf",
   "metadata": {},
   "outputs": [],
   "source": [
    "# std: speard of data around mean"
   ]
  },
  {
   "cell_type": "markdown",
   "id": "f0e07674",
   "metadata": {},
   "source": [
    "# formula\n",
    "- variance = sum(xi-xmaen)**2\n",
    "- std = variance**2/N"
   ]
  },
  {
   "cell_type": "markdown",
   "id": "83d66bfe",
   "metadata": {},
   "source": [
    "##### Data Distribution\n",
    "- uniform dist\n",
    "- normal dist\n",
    "- standard normal dist\n",
    "- left skewed dist\n",
    "- right skewed dist\n",
    "etc."
   ]
  },
  {
   "cell_type": "code",
   "execution_count": 26,
   "id": "16be97c7",
   "metadata": {},
   "outputs": [],
   "source": [
    "import random\n",
    "import statistics as stats"
   ]
  },
  {
   "cell_type": "code",
   "execution_count": 27,
   "id": "1266acc6",
   "metadata": {},
   "outputs": [],
   "source": [
    "x = []\n",
    "for i in range(50):\n",
    "    x.append(random.gauss(mu = 100, sigma =10))"
   ]
  },
  {
   "cell_type": "code",
   "execution_count": 28,
   "id": "aa7029e4",
   "metadata": {},
   "outputs": [
    {
     "name": "stdout",
     "output_type": "stream",
     "text": [
      "[100.00083706559778, 95.96626705427039, 98.38067569738033, 86.55577823781385, 112.39882736052351, 96.31180165199373, 89.20633148469153, 114.62793867047192, 88.1397845052536, 86.56933611400237, 110.62162885253703, 98.80354461455609, 75.2430268650858, 114.38179826300536, 81.61062516335684, 87.18381896802191, 108.06063734332822, 91.49638410761168, 89.44675789175066, 91.75196099225924, 96.64473273120402, 108.29066969098643, 104.87411362591052, 93.58108890059779, 102.00484240860615, 109.25923310957471, 95.36386589986392, 84.75205455386578, 103.01220512504953, 106.07073132270791, 111.07378400594322, 100.70572134336507, 110.73548472023036, 89.16951271716837, 86.88763135443322, 99.5562355481753, 94.27403512462526, 88.5620192132989, 102.7905498587917, 93.2214292668773, 101.97647908820981, 73.90649308610813, 89.7872807803393, 89.49959157830014, 99.63254116200878, 95.46005231631435, 112.31576570789235, 109.2196468057108, 88.98202999445508, 96.78533208584265]\n"
     ]
    }
   ],
   "source": [
    "print(x)"
   ]
  },
  {
   "cell_type": "code",
   "execution_count": 29,
   "id": "2a16224a",
   "metadata": {},
   "outputs": [
    {
     "name": "stdout",
     "output_type": "stream",
     "text": [
      "97.10305828059937\n",
      "96.47826719159887\n",
      "100.00083706559778\n"
     ]
    }
   ],
   "source": [
    "print(stats.mean(x))\n",
    "print(stats.median(x))\n",
    "print(stats.mode(x))"
   ]
  },
  {
   "cell_type": "code",
   "execution_count": 35,
   "id": "943ce93c",
   "metadata": {},
   "outputs": [
    {
     "name": "stdout",
     "output_type": "stream",
     "text": [
      "22\n",
      "18\n",
      "10\n"
     ]
    }
   ],
   "source": [
    "x = []\n",
    "for i in range(50):\n",
    "    x.append(random.uniform(10,90))\n",
    "    \n",
    "l1 = []\n",
    "l3 = []\n",
    "l4 = []\n",
    "for i in x:\n",
    "    if(i>=0 and i<40):\n",
    "        l1.append(i)\n",
    "    elif(i>=40 and i<70):\n",
    "        l3.append(i)\n",
    "    else:\n",
    "        l4.append(i)\n",
    "        \n",
    "print(len(l1))\n",
    "print(len(l3))\n",
    "print(len(l4))"
   ]
  },
  {
   "cell_type": "code",
   "execution_count": 92,
   "id": "f94096d0",
   "metadata": {},
   "outputs": [
    {
     "name": "stdout",
     "output_type": "stream",
     "text": [
      "[38, 17, 12, 3, 2, 90, 57, 18, 12, 30, 59, 85, 66, 33, 86, 64, 44, 53, 50, 40, 11, 22, 27, 93, 1, 44, 91, 75, 8, 4, 17, 61, 7, 85, 54, 68, 65, 69, 22, 75, 15, 46, 15, 79, 48, 36, 39, 2, 85, 60, 81, 12, 90, 96, 40, 82, 52, 56, 88, 61, 80, 11, 98, 56, 7, 33, 98, 59, 83, 91, 23, 84, 20, 46, 77, 10, 18, 72, 87, 71, 29, 43, 4, 76, 7, 98, 98, 50, 64, 88, 76, 26, 10, 47, 90, 83, 77, 17, 90, 3]\n"
     ]
    }
   ],
   "source": [
    "# central limit theorem\n",
    "x = []\n",
    "for i in range(100):\n",
    "    x.append(random.randint(1,100))\n",
    "print(x)"
   ]
  },
  {
   "cell_type": "code",
   "execution_count": 77,
   "id": "8db10dd1",
   "metadata": {
    "collapsed": true
   },
   "outputs": [
    {
     "name": "stdout",
     "output_type": "stream",
     "text": [
      "45.2\n"
     ]
    }
   ],
   "source": [
    "s1 = random.sample(x,k = 10)\n",
    "print(stats.mean(s1))"
   ]
  },
  {
   "cell_type": "code",
   "execution_count": 78,
   "id": "12217a1b",
   "metadata": {
    "collapsed": true
   },
   "outputs": [
    {
     "name": "stdout",
     "output_type": "stream",
     "text": [
      "46.9\n"
     ]
    }
   ],
   "source": [
    "s2 = random.sample(x,k = 10)\n",
    "print(stats.mean(s2))"
   ]
  },
  {
   "cell_type": "code",
   "execution_count": 79,
   "id": "860a6103",
   "metadata": {
    "collapsed": true
   },
   "outputs": [
    {
     "name": "stdout",
     "output_type": "stream",
     "text": [
      "49.8\n"
     ]
    }
   ],
   "source": [
    "s3 = random.sample(x,k = 10)\n",
    "print(stats.mean(s3))"
   ]
  },
  {
   "cell_type": "code",
   "execution_count": 80,
   "id": "afd2e08d",
   "metadata": {
    "collapsed": true
   },
   "outputs": [
    {
     "name": "stdout",
     "output_type": "stream",
     "text": [
      "32.3\n"
     ]
    }
   ],
   "source": [
    "s4 = random.sample(x,k = 10)\n",
    "print(stats.mean(s4))"
   ]
  },
  {
   "cell_type": "code",
   "execution_count": 81,
   "id": "591596e9",
   "metadata": {
    "collapsed": true
   },
   "outputs": [
    {
     "name": "stdout",
     "output_type": "stream",
     "text": [
      "60.3\n"
     ]
    }
   ],
   "source": [
    "s5 = random.sample(x,k = 10)\n",
    "print(stats.mean(s5))"
   ]
  },
  {
   "cell_type": "code",
   "execution_count": 82,
   "id": "ea06b4bf",
   "metadata": {
    "collapsed": true
   },
   "outputs": [
    {
     "name": "stdout",
     "output_type": "stream",
     "text": [
      "45.3\n"
     ]
    }
   ],
   "source": [
    "s6 = random.sample(x,k = 10)\n",
    "print(stats.mean(s6))"
   ]
  },
  {
   "cell_type": "code",
   "execution_count": 83,
   "id": "08260be2",
   "metadata": {
    "collapsed": true
   },
   "outputs": [
    {
     "name": "stdout",
     "output_type": "stream",
     "text": [
      "37.6\n"
     ]
    }
   ],
   "source": [
    "s7 = random.sample(x,k = 10)\n",
    "print(stats.mean(s7))"
   ]
  },
  {
   "cell_type": "code",
   "execution_count": 84,
   "id": "1f2aa40d",
   "metadata": {
    "collapsed": true
   },
   "outputs": [
    {
     "name": "stdout",
     "output_type": "stream",
     "text": [
      "34\n"
     ]
    }
   ],
   "source": [
    "s8 = random.sample(x,k = 10)\n",
    "print(stats.mean(s8))"
   ]
  },
  {
   "cell_type": "code",
   "execution_count": 85,
   "id": "66ef6428",
   "metadata": {
    "collapsed": true
   },
   "outputs": [
    {
     "name": "stdout",
     "output_type": "stream",
     "text": [
      "51.4\n"
     ]
    }
   ],
   "source": [
    "s9 = random.sample(x,k = 10)\n",
    "print(stats.mean(s9))"
   ]
  },
  {
   "cell_type": "code",
   "execution_count": 86,
   "id": "69e399e4",
   "metadata": {
    "collapsed": true
   },
   "outputs": [
    {
     "name": "stdout",
     "output_type": "stream",
     "text": [
      "41.2\n"
     ]
    }
   ],
   "source": [
    "s10 = random.sample(x,k = 10)\n",
    "print(stats.mean(s10))"
   ]
  },
  {
   "cell_type": "code",
   "execution_count": 87,
   "id": "710b21db",
   "metadata": {},
   "outputs": [],
   "source": [
    "lst = [45.2,46.9,49.8,32.3,60.3,45.3,37.6,34,51.4,41.2]"
   ]
  },
  {
   "cell_type": "code",
   "execution_count": 88,
   "id": "804fdc5a",
   "metadata": {
    "collapsed": true
   },
   "outputs": [
    {
     "name": "stdout",
     "output_type": "stream",
     "text": [
      "44.4\n",
      "45.25\n",
      "45.2\n"
     ]
    }
   ],
   "source": [
    "print(stats.mean(lst))\n",
    "print(stats.median(lst))\n",
    "print(stats.mode(lst))"
   ]
  },
  {
   "cell_type": "code",
   "execution_count": 93,
   "id": "d9bb2f6b",
   "metadata": {},
   "outputs": [],
   "source": [
    "z = []\n",
    "for i in range(10):\n",
    "    s = random.sample(x,k =10)\n",
    "    z.append(stats.mean(s))"
   ]
  },
  {
   "cell_type": "code",
   "execution_count": 94,
   "id": "9bab580d",
   "metadata": {},
   "outputs": [
    {
     "name": "stdout",
     "output_type": "stream",
     "text": [
      "51.39\n",
      "51.05\n",
      "40.5\n"
     ]
    }
   ],
   "source": [
    "print(stats.mean(z))\n",
    "print(stats.median(z))\n",
    "print(stats.mode(z))"
   ]
  },
  {
   "cell_type": "code",
   "execution_count": 1,
   "id": "25576d27",
   "metadata": {},
   "outputs": [],
   "source": [
    "import numpy as np"
   ]
  },
  {
   "cell_type": "code",
   "execution_count": 4,
   "id": "d6082a1b",
   "metadata": {},
   "outputs": [
    {
     "data": {
      "text/plain": [
       "'1.21.5'"
      ]
     },
     "execution_count": 4,
     "metadata": {},
     "output_type": "execute_result"
    }
   ],
   "source": [
    "np.__version__"
   ]
  },
  {
   "cell_type": "code",
   "execution_count": 8,
   "id": "e366f988",
   "metadata": {},
   "outputs": [
    {
     "name": "stdout",
     "output_type": "stream",
     "text": [
      "<class 'numpy.ndarray'>\n"
     ]
    }
   ],
   "source": [
    "a = np.array([10,20,30])\n",
    "print(type(a))"
   ]
  },
  {
   "cell_type": "code",
   "execution_count": 10,
   "id": "0bc262fb",
   "metadata": {},
   "outputs": [
    {
     "name": "stdout",
     "output_type": "stream",
     "text": [
      "[10 20 30]\n",
      "int32\n"
     ]
    }
   ],
   "source": [
    "print(a)\n",
    "print(a.dtype)"
   ]
  },
  {
   "cell_type": "code",
   "execution_count": 11,
   "id": "e1134fa1",
   "metadata": {},
   "outputs": [
    {
     "name": "stdout",
     "output_type": "stream",
     "text": [
      "<class 'numpy.ndarray'>\n",
      "[10.  20.  30.  40.5]\n",
      "float64\n"
     ]
    }
   ],
   "source": [
    "a = np.array([10,20,30,40.5])\n",
    "print(type(a))\n",
    "print(a)\n",
    "print(a.dtype)"
   ]
  },
  {
   "cell_type": "code",
   "execution_count": 12,
   "id": "464a9852",
   "metadata": {},
   "outputs": [
    {
     "name": "stdout",
     "output_type": "stream",
     "text": [
      "<class 'numpy.ndarray'>\n",
      "['10' '20' '30' '40.5' 'hello']\n",
      "<U32\n"
     ]
    }
   ],
   "source": [
    "a = np.array([10,20,30,40.5,\"hello\"])\n",
    "print(type(a))\n",
    "print(a)\n",
    "print(a.dtype)"
   ]
  },
  {
   "cell_type": "code",
   "execution_count": 13,
   "id": "43830149",
   "metadata": {},
   "outputs": [
    {
     "name": "stdout",
     "output_type": "stream",
     "text": [
      "<class 'numpy.ndarray'>\n",
      "[10 20 30 40]\n",
      "int32\n"
     ]
    }
   ],
   "source": [
    "a = np.array([10,20,30,40.5], dtype=np.int32)\n",
    "print(type(a))\n",
    "print(a)\n",
    "print(a.dtype)"
   ]
  },
  {
   "cell_type": "code",
   "execution_count": 14,
   "id": "5db84d05",
   "metadata": {},
   "outputs": [
    {
     "ename": "ValueError",
     "evalue": "invalid literal for int() with base 10: 'hello'",
     "output_type": "error",
     "traceback": [
      "\u001b[1;31m---------------------------------------------------------------------------\u001b[0m",
      "\u001b[1;31mValueError\u001b[0m                                Traceback (most recent call last)",
      "\u001b[1;32m~\\AppData\\Local\\Temp\\ipykernel_7328\\1627158475.py\u001b[0m in \u001b[0;36m<module>\u001b[1;34m\u001b[0m\n\u001b[1;32m----> 1\u001b[1;33m \u001b[0ma\u001b[0m \u001b[1;33m=\u001b[0m \u001b[0mnp\u001b[0m\u001b[1;33m.\u001b[0m\u001b[0marray\u001b[0m\u001b[1;33m(\u001b[0m\u001b[1;33m[\u001b[0m\u001b[1;36m10\u001b[0m\u001b[1;33m,\u001b[0m\u001b[1;36m20\u001b[0m\u001b[1;33m,\u001b[0m\u001b[1;36m30\u001b[0m\u001b[1;33m,\u001b[0m\u001b[1;36m40.5\u001b[0m\u001b[1;33m,\u001b[0m\u001b[1;34m\"hello\"\u001b[0m\u001b[1;33m]\u001b[0m\u001b[1;33m,\u001b[0m\u001b[0mdtype\u001b[0m\u001b[1;33m=\u001b[0m\u001b[0mnp\u001b[0m\u001b[1;33m.\u001b[0m\u001b[0mint32\u001b[0m\u001b[1;33m)\u001b[0m\u001b[1;33m\u001b[0m\u001b[1;33m\u001b[0m\u001b[0m\n\u001b[0m\u001b[0;32m      2\u001b[0m \u001b[0mprint\u001b[0m\u001b[1;33m(\u001b[0m\u001b[0mtype\u001b[0m\u001b[1;33m(\u001b[0m\u001b[0ma\u001b[0m\u001b[1;33m)\u001b[0m\u001b[1;33m)\u001b[0m\u001b[1;33m\u001b[0m\u001b[1;33m\u001b[0m\u001b[0m\n\u001b[0;32m      3\u001b[0m \u001b[0mprint\u001b[0m\u001b[1;33m(\u001b[0m\u001b[0ma\u001b[0m\u001b[1;33m)\u001b[0m\u001b[1;33m\u001b[0m\u001b[1;33m\u001b[0m\u001b[0m\n\u001b[0;32m      4\u001b[0m \u001b[0mprint\u001b[0m\u001b[1;33m(\u001b[0m\u001b[0ma\u001b[0m\u001b[1;33m.\u001b[0m\u001b[0mdtype\u001b[0m\u001b[1;33m)\u001b[0m\u001b[1;33m\u001b[0m\u001b[1;33m\u001b[0m\u001b[0m\n",
      "\u001b[1;31mValueError\u001b[0m: invalid literal for int() with base 10: 'hello'"
     ]
    }
   ],
   "source": [
    "a = np.array([10,20,30,40.5,\"hello\"],dtype=np.int32)\n",
    "print(type(a))\n",
    "print(a)\n",
    "print(a.dtype)"
   ]
  },
  {
   "cell_type": "code",
   "execution_count": 18,
   "id": "e616dad8",
   "metadata": {},
   "outputs": [
    {
     "name": "stdout",
     "output_type": "stream",
     "text": [
      "[1 3 5 7 9]\n"
     ]
    }
   ],
   "source": [
    "a=np.arange(1,10,2)\n",
    "print(a)"
   ]
  },
  {
   "cell_type": "code",
   "execution_count": 19,
   "id": "b077ea95",
   "metadata": {},
   "outputs": [
    {
     "name": "stdout",
     "output_type": "stream",
     "text": [
      "[ 1.   3.5  6.   8.5 11.  13.5 16.  18.5]\n"
     ]
    }
   ],
   "source": [
    "a=np.arange(1,20,2.5)\n",
    "print(a)"
   ]
  },
  {
   "cell_type": "code",
   "execution_count": 4,
   "id": "8fbc6938",
   "metadata": {},
   "outputs": [
    {
     "name": "stdout",
     "output_type": "stream",
     "text": [
      "[ 1  6 11 16 21 26 31 36 41 46 51 56 61 66 71 76 81 86 91 96]\n",
      "20\n"
     ]
    }
   ],
   "source": [
    "a=np.arange(1,100,5)\n",
    "print(a)\n"
   ]
  },
  {
   "cell_type": "code",
   "execution_count": 9,
   "id": "d5337d26",
   "metadata": {},
   "outputs": [
    {
     "name": "stdout",
     "output_type": "stream",
     "text": [
      "[ 1 13 25 37 49 61 73 85 97]\n",
      "9\n"
     ]
    }
   ],
   "source": [
    "a=np.arange(1,100,12)\n",
    "print(a)\n",
    "print(len(a))"
   ]
  },
  {
   "cell_type": "code",
   "execution_count": null,
   "id": "a0065614",
   "metadata": {},
   "outputs": [],
   "source": []
  }
 ],
 "metadata": {
  "kernelspec": {
   "display_name": "Python 3 (ipykernel)",
   "language": "python",
   "name": "python3"
  },
  "language_info": {
   "codemirror_mode": {
    "name": "ipython",
    "version": 3
   },
   "file_extension": ".py",
   "mimetype": "text/x-python",
   "name": "python",
   "nbconvert_exporter": "python",
   "pygments_lexer": "ipython3",
   "version": "3.9.13"
  }
 },
 "nbformat": 4,
 "nbformat_minor": 5
}
