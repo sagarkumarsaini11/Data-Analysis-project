{
 "cells": [
  {
   "cell_type": "code",
   "execution_count": 1,
   "id": "4d9b4cfe",
   "metadata": {},
   "outputs": [],
   "source": [
    "import numpy as np\n",
    "import sys"
   ]
  },
  {
   "cell_type": "code",
   "execution_count": 9,
   "id": "715250e5",
   "metadata": {},
   "outputs": [
    {
     "name": "stdout",
     "output_type": "stream",
     "text": [
      "memory size(bytes) of list with 2000 element: 16056\n",
      "memory size(bytes) of array with 2000 element: 8104\n"
     ]
    }
   ],
   "source": [
    "x=list(range(2000))\n",
    "y=np.arange(2000)\n",
    "print(\"memory size(bytes) of list with 2000 element:\",sys.getsizeof(x))\n",
    "print(\"memory size(bytes) of array with 2000 element:\",sys.getsizeof(y))"
   ]
  },
  {
   "cell_type": "code",
   "execution_count": 10,
   "id": "0f5a10df",
   "metadata": {},
   "outputs": [
    {
     "name": "stdout",
     "output_type": "stream",
     "text": [
      "[0. 0. 0. 0. 0.]\n"
     ]
    }
   ],
   "source": [
    "a=np.zeros(5)\n",
    "print(a)"
   ]
  },
  {
   "cell_type": "code",
   "execution_count": 11,
   "id": "a7319458",
   "metadata": {},
   "outputs": [
    {
     "name": "stdout",
     "output_type": "stream",
     "text": [
      "[ 0.  0.  0.  0. 50.]\n"
     ]
    }
   ],
   "source": [
    "a[-1]=50\n",
    "print(a)"
   ]
  },
  {
   "cell_type": "code",
   "execution_count": 12,
   "id": "77d3d17f",
   "metadata": {},
   "outputs": [
    {
     "name": "stdout",
     "output_type": "stream",
     "text": [
      "[0 0 0 0 0]\n"
     ]
    }
   ],
   "source": [
    "a=np.zeros(5, dtype=np.int32)   #size,dtype \n",
    "print(a)"
   ]
  },
  {
   "cell_type": "code",
   "execution_count": 14,
   "id": "f9062ef6",
   "metadata": {},
   "outputs": [
    {
     "name": "stdout",
     "output_type": "stream",
     "text": [
      "[1 1 1 1 1]\n"
     ]
    }
   ],
   "source": [
    "a=np.ones(5, dtype=np.int32)\n",
    "print(a)"
   ]
  },
  {
   "cell_type": "code",
   "execution_count": 18,
   "id": "4c5a3c1b",
   "metadata": {},
   "outputs": [
    {
     "name": "stdout",
     "output_type": "stream",
     "text": [
      "[100 100 100 100 100]\n"
     ]
    }
   ],
   "source": [
    "a=np.full(5,100)  #size, intial_value\n",
    "print(a)"
   ]
  },
  {
   "cell_type": "code",
   "execution_count": 20,
   "id": "37c4abfd",
   "metadata": {},
   "outputs": [
    {
     "name": "stdout",
     "output_type": "stream",
     "text": [
      "[  50  100 -128 -127]\n"
     ]
    }
   ],
   "source": [
    "a=np.array([50,100,128,129],dtype=np.int8)\n",
    "print(a)"
   ]
  },
  {
   "cell_type": "code",
   "execution_count": 21,
   "id": "7d812c98",
   "metadata": {},
   "outputs": [
    {
     "name": "stdout",
     "output_type": "stream",
     "text": [
      "[  50  100 -128  127]\n"
     ]
    }
   ],
   "source": [
    "a=np.array([50,100,128,-129],dtype=np.int8)\n",
    "print(a)                                          #round robin fassion"
   ]
  },
  {
   "cell_type": "code",
   "execution_count": 25,
   "id": "077dd548",
   "metadata": {},
   "outputs": [
    {
     "name": "stdout",
     "output_type": "stream",
     "text": [
      "[ 50 100 128 129 255   1]\n"
     ]
    }
   ],
   "source": [
    "a=np.array([50,100,128,129,255,257],dtype=np.uint8)\n",
    "print(a)                                         #0-255 positive value"
   ]
  },
  {
   "cell_type": "code",
   "execution_count": 32,
   "id": "efaf139b",
   "metadata": {},
   "outputs": [
    {
     "name": "stdout",
     "output_type": "stream",
     "text": [
      "[10.  12.5 15.  17.5 20. ]\n"
     ]
    }
   ],
   "source": [
    "a=np.linspace(10,20,5) #start,end,how many element u want\n",
    "print(a)"
   ]
  },
  {
   "cell_type": "code",
   "execution_count": 33,
   "id": "49e786f2",
   "metadata": {
    "collapsed": true
   },
   "outputs": [
    {
     "name": "stdout",
     "output_type": "stream",
     "text": [
      "[ 10.          11.83673469  13.67346939  15.51020408  17.34693878\n",
      "  19.18367347  21.02040816  22.85714286  24.69387755  26.53061224\n",
      "  28.36734694  30.20408163  32.04081633  33.87755102  35.71428571\n",
      "  37.55102041  39.3877551   41.2244898   43.06122449  44.89795918\n",
      "  46.73469388  48.57142857  50.40816327  52.24489796  54.08163265\n",
      "  55.91836735  57.75510204  59.59183673  61.42857143  63.26530612\n",
      "  65.10204082  66.93877551  68.7755102   70.6122449   72.44897959\n",
      "  74.28571429  76.12244898  77.95918367  79.79591837  81.63265306\n",
      "  83.46938776  85.30612245  87.14285714  88.97959184  90.81632653\n",
      "  92.65306122  94.48979592  96.32653061  98.16326531 100.        ]\n",
      "50\n"
     ]
    }
   ],
   "source": [
    "a=np.linspace(10,100)     #by default size will be consider 50\n",
    "print(a)\n",
    "print(len(a))"
   ]
  },
  {
   "cell_type": "code",
   "execution_count": 46,
   "id": "ae48c029",
   "metadata": {},
   "outputs": [
    {
     "name": "stdout",
     "output_type": "stream",
     "text": [
      "[2 1 8 5 4]\n"
     ]
    }
   ],
   "source": [
    "a=np.random.randint(1,10,5) #low,high,size \n",
    "print(a)"
   ]
  },
  {
   "cell_type": "code",
   "execution_count": 49,
   "id": "2d9d4468",
   "metadata": {},
   "outputs": [
    {
     "name": "stdout",
     "output_type": "stream",
     "text": [
      "[2.44964292 1.81117138 8.42206366 5.40464172 6.12162898]\n"
     ]
    }
   ],
   "source": [
    "a=np.random.uniform(1,10,5) #low,high,size\n",
    "print(a)"
   ]
  },
  {
   "cell_type": "code",
   "execution_count": 51,
   "id": "decbf3e4",
   "metadata": {},
   "outputs": [
    {
     "name": "stdout",
     "output_type": "stream",
     "text": [
      "[10. 20. 30. 40. 50.]\n"
     ]
    }
   ],
   "source": [
    "a=np.loadtxt(\"E:/e drive data/DATA Analystics RAJAT/text1.txt\", delimiter=\"\\n\")\n",
    "print(a)"
   ]
  },
  {
   "cell_type": "code",
   "execution_count": 52,
   "id": "9d8702b9",
   "metadata": {},
   "outputs": [
    {
     "name": "stdout",
     "output_type": "stream",
     "text": [
      "[10. 20. 30. 40. 50.]\n"
     ]
    }
   ],
   "source": [
    "a=np.loadtxt(\"E:/e drive data/DATA Analystics RAJAT/text2.txt\", delimiter=\",\")\n",
    "print(a)"
   ]
  },
  {
   "cell_type": "code",
   "execution_count": 53,
   "id": "ac65df2a",
   "metadata": {},
   "outputs": [
    {
     "name": "stdout",
     "output_type": "stream",
     "text": [
      "[9 3 3 8 2]\n"
     ]
    }
   ],
   "source": [
    "a=np.random.randint(1,10,5) #low,high,size \n",
    "print(a)"
   ]
  },
  {
   "cell_type": "code",
   "execution_count": 54,
   "id": "bc9c40c4",
   "metadata": {},
   "outputs": [],
   "source": [
    "np.savetxt(\"E:/e drive data/DATA Analystics RAJAT/text3.txt\",a,newline=\",\",fmt=\"%d\")"
   ]
  },
  {
   "cell_type": "code",
   "execution_count": 5,
   "id": "554d779a",
   "metadata": {},
   "outputs": [
    {
     "name": "stdout",
     "output_type": "stream",
     "text": [
      "[[1 2]\n",
      " [3 4]\n",
      " [5 6]]\n",
      "<class 'numpy.ndarray'> int32\n",
      "2\n",
      "(3, 2)\n"
     ]
    }
   ],
   "source": [
    "a=np.array([[1,2],[3,4],[5,6]])\n",
    "print(a)\n",
    "print(type(a), a.dtype)\n",
    "print(a.ndim)  # which type of array\n",
    "print(a.shape)"
   ]
  },
  {
   "cell_type": "code",
   "execution_count": 6,
   "id": "9d8f3dab",
   "metadata": {},
   "outputs": [
    {
     "name": "stdout",
     "output_type": "stream",
     "text": [
      "[list([1, 2]) list([3, 4]) list([5, 6, 7])]\n",
      "<class 'numpy.ndarray'> object\n",
      "1\n",
      "(3,)\n"
     ]
    },
    {
     "name": "stderr",
     "output_type": "stream",
     "text": [
      "C:\\Users\\india\\AppData\\Local\\Temp\\ipykernel_4696\\1521591614.py:1: VisibleDeprecationWarning: Creating an ndarray from ragged nested sequences (which is a list-or-tuple of lists-or-tuples-or ndarrays with different lengths or shapes) is deprecated. If you meant to do this, you must specify 'dtype=object' when creating the ndarray.\n",
      "  a=np.array([[1,2],[3,4],[5,6,7]])\n"
     ]
    }
   ],
   "source": [
    "a=np.array([[1,2],[3,4],[5,6,7]])\n",
    "print(a)\n",
    "print(type(a), a.dtype)\n",
    "print(a.ndim)  # which type of array\n",
    "print(a.shape)"
   ]
  },
  {
   "cell_type": "code",
   "execution_count": 7,
   "id": "4aa14fd9",
   "metadata": {},
   "outputs": [
    {
     "name": "stdout",
     "output_type": "stream",
     "text": [
      "[[0. 0. 0. 0. 0.]\n",
      " [0. 0. 0. 0. 0.]\n",
      " [0. 0. 0. 0. 0.]\n",
      " [0. 0. 0. 0. 0.]]\n"
     ]
    }
   ],
   "source": [
    "a=np.zeros((4,5)) #row,column\n",
    "print(a)"
   ]
  },
  {
   "cell_type": "code",
   "execution_count": 8,
   "id": "875454fe",
   "metadata": {},
   "outputs": [
    {
     "name": "stdout",
     "output_type": "stream",
     "text": [
      "[[1. 1. 1. 1.]\n",
      " [1. 1. 1. 1.]\n",
      " [1. 1. 1. 1.]\n",
      " [1. 1. 1. 1.]\n",
      " [1. 1. 1. 1.]]\n"
     ]
    }
   ],
   "source": [
    "a=np.ones((5,4)) #r, c\n",
    "print(a)"
   ]
  },
  {
   "cell_type": "code",
   "execution_count": 9,
   "id": "f3cd7d8c",
   "metadata": {},
   "outputs": [
    {
     "name": "stdout",
     "output_type": "stream",
     "text": [
      "[[10 10 10]\n",
      " [10 10 10]\n",
      " [10 10 10]]\n"
     ]
    }
   ],
   "source": [
    "a=np.full((3,3),10) #(r,c),initial_value\n",
    "print(a)"
   ]
  },
  {
   "cell_type": "code",
   "execution_count": 18,
   "id": "6ae574da",
   "metadata": {},
   "outputs": [
    {
     "name": "stdout",
     "output_type": "stream",
     "text": [
      "[[7 3 4 2]\n",
      " [2 8 8 1]\n",
      " [8 3 6 2]]\n"
     ]
    }
   ],
   "source": [
    "a=np.random.randint(1,10,(3,4))  #low,high,(r,c)\n",
    "print(a)"
   ]
  },
  {
   "cell_type": "code",
   "execution_count": 20,
   "id": "eb88337a",
   "metadata": {},
   "outputs": [
    {
     "name": "stdout",
     "output_type": "stream",
     "text": [
      "[[8.31927445 9.97687974 7.22273378 2.4303106 ]\n",
      " [2.27124233 5.21637371 5.28076282 2.64739209]\n",
      " [4.32899019 8.89971414 7.09866417 4.41987757]]\n"
     ]
    }
   ],
   "source": [
    "a=np.random.uniform(1,10,(3,4))  #low,high,(r,c)\n",
    "print(a)"
   ]
  },
  {
   "cell_type": "code",
   "execution_count": 21,
   "id": "2c843344",
   "metadata": {},
   "outputs": [
    {
     "name": "stdout",
     "output_type": "stream",
     "text": [
      "[[1. 0. 0.]\n",
      " [0. 1. 0.]\n",
      " [0. 0. 1.]]\n"
     ]
    }
   ],
   "source": [
    "a=np.eye(3,3)  #reture identity metrix  of r,c\n",
    "print(a)"
   ]
  },
  {
   "cell_type": "code",
   "execution_count": 31,
   "id": "f6d49a29",
   "metadata": {},
   "outputs": [
    {
     "name": "stdout",
     "output_type": "stream",
     "text": [
      "[[1. 0. 0.]\n",
      " [0. 1. 0.]\n",
      " [0. 0. 1.]\n",
      " [0. 0. 0.]\n",
      " [0. 0. 0.]]\n",
      "2\n"
     ]
    }
   ],
   "source": [
    "a=np.eye(5,3)  #reture identity metrix  of r,c\n",
    "print(a)\n",
    "print(a.ndim)"
   ]
  },
  {
   "cell_type": "markdown",
   "id": "5a930ebc",
   "metadata": {},
   "source": [
    "### 3D Array"
   ]
  },
  {
   "cell_type": "code",
   "execution_count": 32,
   "id": "dfa64a11",
   "metadata": {},
   "outputs": [
    {
     "name": "stdout",
     "output_type": "stream",
     "text": [
      "[[[3 6 4]\n",
      "  [2 5 7]\n",
      "  [1 4 3]]\n",
      "\n",
      " [[6 7 1]\n",
      "  [5 9 3]\n",
      "  [8 5 2]]\n",
      "\n",
      " [[6 3 3]\n",
      "  [3 8 8]\n",
      "  [6 7 1]]\n",
      "\n",
      " [[4 4 4]\n",
      "  [9 8 4]\n",
      "  [1 8 2]]]\n",
      "3\n"
     ]
    }
   ],
   "source": [
    "a=np.random.randint(1,10,(4,3,3)) #low,high,(size,r,c)\n",
    "print(a)\n",
    "print(a.ndim)"
   ]
  },
  {
   "cell_type": "code",
   "execution_count": 33,
   "id": "9ded2416",
   "metadata": {},
   "outputs": [
    {
     "name": "stdout",
     "output_type": "stream",
     "text": [
      "[[[0. 0. 0. 0.]\n",
      "  [0. 0. 0. 0.]\n",
      "  [0. 0. 0. 0.]]\n",
      "\n",
      " [[0. 0. 0. 0.]\n",
      "  [0. 0. 0. 0.]\n",
      "  [0. 0. 0. 0.]]]\n",
      "3\n"
     ]
    }
   ],
   "source": [
    "a=np.zeros((2,3,4)) #size,row,column\n",
    "print(a)\n",
    "print(a.ndim)"
   ]
  },
  {
   "cell_type": "markdown",
   "id": "baaf7f5b",
   "metadata": {},
   "source": [
    "### 4D Array"
   ]
  },
  {
   "cell_type": "code",
   "execution_count": 36,
   "id": "a55ee97c",
   "metadata": {},
   "outputs": [
    {
     "name": "stdout",
     "output_type": "stream",
     "text": [
      "[[[[1 5 3]\n",
      "   [2 1 6]\n",
      "   [3 7 1]]\n",
      "\n",
      "  [[9 9 7]\n",
      "   [8 7 5]\n",
      "   [4 2 6]]\n",
      "\n",
      "  [[3 4 7]\n",
      "   [7 9 4]\n",
      "   [6 7 4]]\n",
      "\n",
      "  [[5 1 9]\n",
      "   [7 9 5]\n",
      "   [7 2 8]]]\n",
      "\n",
      "\n",
      " [[[1 5 4]\n",
      "   [8 4 9]\n",
      "   [6 4 5]]\n",
      "\n",
      "  [[4 7 6]\n",
      "   [4 3 7]\n",
      "   [9 6 8]]\n",
      "\n",
      "  [[9 1 2]\n",
      "   [8 4 4]\n",
      "   [2 6 6]]\n",
      "\n",
      "  [[6 7 6]\n",
      "   [5 6 8]\n",
      "   [5 9 8]]]\n",
      "\n",
      "\n",
      " [[[3 7 1]\n",
      "   [1 8 1]\n",
      "   [3 7 1]]\n",
      "\n",
      "  [[6 3 8]\n",
      "   [7 4 3]\n",
      "   [4 6 4]]\n",
      "\n",
      "  [[9 2 7]\n",
      "   [8 2 9]\n",
      "   [1 3 7]]\n",
      "\n",
      "  [[1 2 3]\n",
      "   [8 8 8]\n",
      "   [9 7 6]]]]\n"
     ]
    }
   ],
   "source": [
    "a=np.random.randint(1,10,(3,4,3,3)) #low,high(size_of_4d_array,size_of_3d_array,r,c)\n",
    "#print(a.ndim)\n",
    "print(a)"
   ]
  },
  {
   "cell_type": "code",
   "execution_count": 37,
   "id": "e1ec87f0",
   "metadata": {},
   "outputs": [
    {
     "name": "stdout",
     "output_type": "stream",
     "text": [
      "[[[[0. 0. 0. 0.]\n",
      "   [0. 0. 0. 0.]\n",
      "   [0. 0. 0. 0.]]\n",
      "\n",
      "  [[0. 0. 0. 0.]\n",
      "   [0. 0. 0. 0.]\n",
      "   [0. 0. 0. 0.]]\n",
      "\n",
      "  [[0. 0. 0. 0.]\n",
      "   [0. 0. 0. 0.]\n",
      "   [0. 0. 0. 0.]]\n",
      "\n",
      "  [[0. 0. 0. 0.]\n",
      "   [0. 0. 0. 0.]\n",
      "   [0. 0. 0. 0.]]]\n",
      "\n",
      "\n",
      " [[[0. 0. 0. 0.]\n",
      "   [0. 0. 0. 0.]\n",
      "   [0. 0. 0. 0.]]\n",
      "\n",
      "  [[0. 0. 0. 0.]\n",
      "   [0. 0. 0. 0.]\n",
      "   [0. 0. 0. 0.]]\n",
      "\n",
      "  [[0. 0. 0. 0.]\n",
      "   [0. 0. 0. 0.]\n",
      "   [0. 0. 0. 0.]]\n",
      "\n",
      "  [[0. 0. 0. 0.]\n",
      "   [0. 0. 0. 0.]\n",
      "   [0. 0. 0. 0.]]]]\n",
      "4\n"
     ]
    }
   ],
   "source": [
    "a=np.zeros((2,4,3,4)) #size_of_4d,size_of_3d,row,column\n",
    "print(a)\n",
    "print(a.ndim)"
   ]
  },
  {
   "cell_type": "markdown",
   "id": "90f38c6d",
   "metadata": {},
   "source": [
    "#### transform dimention to each other\n",
    " * flatten() > any dimention transfer to 1d\n",
    " * reshape()\n",
    " * resize()"
   ]
  },
  {
   "cell_type": "code",
   "execution_count": 39,
   "id": "0ea36173",
   "metadata": {},
   "outputs": [
    {
     "name": "stdout",
     "output_type": "stream",
     "text": [
      "[[1 3 2]\n",
      " [6 1 1]\n",
      " [9 8 9]]\n"
     ]
    }
   ],
   "source": [
    "a=np.random.randint(1,10,(3,3))\n",
    "print(a)"
   ]
  },
  {
   "cell_type": "code",
   "execution_count": 42,
   "id": "a75c670c",
   "metadata": {},
   "outputs": [
    {
     "name": "stdout",
     "output_type": "stream",
     "text": [
      "[1 3 2 6 1 1 9 8 9]\n"
     ]
    }
   ],
   "source": [
    "b=a.flatten() #row major order\n",
    "print(b)      #flatten that mathor a new coppy of 1D array in raw major order"
   ]
  },
  {
   "cell_type": "code",
   "execution_count": 43,
   "id": "09e992e6",
   "metadata": {},
   "outputs": [
    {
     "name": "stdout",
     "output_type": "stream",
     "text": [
      "[[1 3 2]\n",
      " [6 1 1]\n",
      " [9 8 9]]\n"
     ]
    }
   ],
   "source": [
    "print(a)"
   ]
  },
  {
   "cell_type": "code",
   "execution_count": 44,
   "id": "3c2cf160",
   "metadata": {},
   "outputs": [
    {
     "name": "stdout",
     "output_type": "stream",
     "text": [
      "[1 6 9 3 1 8 2 1 9]\n"
     ]
    }
   ],
   "source": [
    "c=a.flatten(order=\"F\") #column major order\n",
    "print(c)"
   ]
  },
  {
   "cell_type": "code",
   "execution_count": 1,
   "id": "5fa403a4",
   "metadata": {},
   "outputs": [],
   "source": [
    "import numpy as np"
   ]
  },
  {
   "cell_type": "markdown",
   "id": "31a97c39",
   "metadata": {},
   "source": [
    "#### Reshape > convert into more than one dimention"
   ]
  },
  {
   "cell_type": "code",
   "execution_count": 4,
   "id": "94be94f2",
   "metadata": {},
   "outputs": [
    {
     "name": "stdout",
     "output_type": "stream",
     "text": [
      "[ 0  1  2  3  4  5  6  7  8  9 10 11]\n",
      "[[8 6 3 7]\n",
      " [8 2 5 9]\n",
      " [2 4 4 3]]\n"
     ]
    }
   ],
   "source": [
    "a=np.arange(12)\n",
    "print(a)\n",
    "\n",
    "b=np.random.randint(1,10,(3,4))\n",
    "print(b)"
   ]
  },
  {
   "cell_type": "code",
   "execution_count": 5,
   "id": "8c833f9e",
   "metadata": {},
   "outputs": [
    {
     "data": {
      "text/plain": [
       "array([[ 0,  1,  2],\n",
       "       [ 3,  4,  5],\n",
       "       [ 6,  7,  8],\n",
       "       [ 9, 10, 11]])"
      ]
     },
     "execution_count": 5,
     "metadata": {},
     "output_type": "execute_result"
    }
   ],
   "source": [
    "a.reshape(4,3)  #r,c"
   ]
  },
  {
   "cell_type": "code",
   "execution_count": 6,
   "id": "9b9e531f",
   "metadata": {},
   "outputs": [
    {
     "data": {
      "text/plain": [
       "array([[ 0,  1],\n",
       "       [ 2,  3],\n",
       "       [ 4,  5],\n",
       "       [ 6,  7],\n",
       "       [ 8,  9],\n",
       "       [10, 11]])"
      ]
     },
     "execution_count": 6,
     "metadata": {},
     "output_type": "execute_result"
    }
   ],
   "source": [
    "a.reshape(6,2)"
   ]
  },
  {
   "cell_type": "code",
   "execution_count": 7,
   "id": "67ff9cbd",
   "metadata": {},
   "outputs": [
    {
     "data": {
      "text/plain": [
       "array([[ 0,  1,  2,  3,  4,  5],\n",
       "       [ 6,  7,  8,  9, 10, 11]])"
      ]
     },
     "execution_count": 7,
     "metadata": {},
     "output_type": "execute_result"
    }
   ],
   "source": [
    "a.reshape(2,6)"
   ]
  },
  {
   "cell_type": "code",
   "execution_count": 8,
   "id": "3ae6b544",
   "metadata": {},
   "outputs": [
    {
     "data": {
      "text/plain": [
       "array([[ 0,  1,  2,  3],\n",
       "       [ 4,  5,  6,  7],\n",
       "       [ 8,  9, 10, 11]])"
      ]
     },
     "execution_count": 8,
     "metadata": {},
     "output_type": "execute_result"
    }
   ],
   "source": [
    "a.reshape(3,-1)"
   ]
  },
  {
   "cell_type": "code",
   "execution_count": 9,
   "id": "6248e734",
   "metadata": {},
   "outputs": [
    {
     "data": {
      "text/plain": [
       "array([[ 0,  1,  2],\n",
       "       [ 3,  4,  5],\n",
       "       [ 6,  7,  8],\n",
       "       [ 9, 10, 11]])"
      ]
     },
     "execution_count": 9,
     "metadata": {},
     "output_type": "execute_result"
    }
   ],
   "source": [
    "a.reshape(4,-1)"
   ]
  },
  {
   "cell_type": "code",
   "execution_count": 10,
   "id": "d3747540",
   "metadata": {},
   "outputs": [
    {
     "data": {
      "text/plain": [
       "array([[ 0,  1],\n",
       "       [ 2,  3],\n",
       "       [ 4,  5],\n",
       "       [ 6,  7],\n",
       "       [ 8,  9],\n",
       "       [10, 11]])"
      ]
     },
     "execution_count": 10,
     "metadata": {},
     "output_type": "execute_result"
    }
   ],
   "source": [
    "a.reshape(-1,2)"
   ]
  },
  {
   "cell_type": "code",
   "execution_count": 11,
   "id": "f9adad1f",
   "metadata": {},
   "outputs": [
    {
     "data": {
      "text/plain": [
       "array([[ 0,  1,  2],\n",
       "       [ 3,  4,  5],\n",
       "       [ 6,  7,  8],\n",
       "       [ 9, 10, 11]])"
      ]
     },
     "execution_count": 11,
     "metadata": {},
     "output_type": "execute_result"
    }
   ],
   "source": [
    "a.reshape(-1,3)"
   ]
  },
  {
   "cell_type": "code",
   "execution_count": 12,
   "id": "cfa5e52c",
   "metadata": {},
   "outputs": [
    {
     "data": {
      "text/plain": [
       "array([[[ 0,  1],\n",
       "        [ 2,  3],\n",
       "        [ 4,  5]],\n",
       "\n",
       "       [[ 6,  7],\n",
       "        [ 8,  9],\n",
       "        [10, 11]]])"
      ]
     },
     "execution_count": 12,
     "metadata": {},
     "output_type": "execute_result"
    }
   ],
   "source": [
    "a.reshape(2,3,2)"
   ]
  },
  {
   "cell_type": "code",
   "execution_count": 13,
   "id": "e2940fc0",
   "metadata": {},
   "outputs": [
    {
     "data": {
      "text/plain": [
       "array([[[ 0,  1,  2],\n",
       "        [ 3,  4,  5],\n",
       "        [ 6,  7,  8],\n",
       "        [ 9, 10, 11]]])"
      ]
     },
     "execution_count": 13,
     "metadata": {},
     "output_type": "execute_result"
    }
   ],
   "source": [
    "a.reshape(1,4,3)"
   ]
  },
  {
   "cell_type": "code",
   "execution_count": 14,
   "id": "cdb152d3",
   "metadata": {},
   "outputs": [
    {
     "name": "stdout",
     "output_type": "stream",
     "text": [
      "[[8 6 3 7]\n",
      " [8 2 5 9]\n",
      " [2 4 4 3]]\n"
     ]
    }
   ],
   "source": [
    "print(b)"
   ]
  },
  {
   "cell_type": "code",
   "execution_count": 19,
   "id": "f1827624",
   "metadata": {},
   "outputs": [
    {
     "data": {
      "text/plain": [
       "array([[8, 2, 4],\n",
       "       [8, 4, 7],\n",
       "       [2, 3, 9],\n",
       "       [6, 5, 3]])"
      ]
     },
     "execution_count": 19,
     "metadata": {},
     "output_type": "execute_result"
    }
   ],
   "source": [
    "b.reshape(4,3,order='F')  #column major order > read column wise and write column wise"
   ]
  },
  {
   "cell_type": "code",
   "execution_count": 20,
   "id": "141b7c81",
   "metadata": {},
   "outputs": [
    {
     "data": {
      "text/plain": [
       "array([[ 0,  1,  2],\n",
       "       [ 3,  4,  5],\n",
       "       [ 6,  7,  8],\n",
       "       [ 9, 10, 11]])"
      ]
     },
     "execution_count": 20,
     "metadata": {},
     "output_type": "execute_result"
    }
   ],
   "source": [
    "a.reshape(4,3,order='c') "
   ]
  },
  {
   "cell_type": "markdown",
   "id": "a2536f24",
   "metadata": {},
   "source": [
    "#### Resize"
   ]
  },
  {
   "cell_type": "code",
   "execution_count": 22,
   "id": "6e922f51",
   "metadata": {},
   "outputs": [
    {
     "name": "stdout",
     "output_type": "stream",
     "text": [
      "[ 0  1  2  3  4  5  6  7  8  9 10 11]\n"
     ]
    }
   ],
   "source": [
    "print(a)"
   ]
  },
  {
   "cell_type": "code",
   "execution_count": 24,
   "id": "647b7104",
   "metadata": {},
   "outputs": [
    {
     "name": "stdout",
     "output_type": "stream",
     "text": [
      "[[ 0  1  2  3]\n",
      " [ 4  5  6  7]\n",
      " [ 8  9 10 11]]\n"
     ]
    }
   ],
   "source": [
    "a.resize(3,4) #change in the existing array\n",
    "print(a)"
   ]
  },
  {
   "cell_type": "code",
   "execution_count": 25,
   "id": "d77d22ff",
   "metadata": {},
   "outputs": [
    {
     "ename": "ValueError",
     "evalue": "negative dimensions not allowed",
     "output_type": "error",
     "traceback": [
      "\u001b[1;31m---------------------------------------------------------------------------\u001b[0m",
      "\u001b[1;31mValueError\u001b[0m                                Traceback (most recent call last)",
      "\u001b[1;32m~\\AppData\\Local\\Temp\\ipykernel_2584\\2364807992.py\u001b[0m in \u001b[0;36m<module>\u001b[1;34m\u001b[0m\n\u001b[1;32m----> 1\u001b[1;33m \u001b[0ma\u001b[0m\u001b[1;33m.\u001b[0m\u001b[0mresize\u001b[0m\u001b[1;33m(\u001b[0m\u001b[1;36m4\u001b[0m\u001b[1;33m,\u001b[0m\u001b[1;33m-\u001b[0m\u001b[1;36m1\u001b[0m\u001b[1;33m)\u001b[0m\u001b[1;33m\u001b[0m\u001b[1;33m\u001b[0m\u001b[0m\n\u001b[0m",
      "\u001b[1;31mValueError\u001b[0m: negative dimensions not allowed"
     ]
    }
   ],
   "source": [
    "a.resize(4,-1)"
   ]
  },
  {
   "cell_type": "code",
   "execution_count": 26,
   "id": "3ed6c78c",
   "metadata": {},
   "outputs": [
    {
     "ename": "ValueError",
     "evalue": "cannot resize an array that references or is referenced\nby another array in this way.\nUse the np.resize function or refcheck=False",
     "output_type": "error",
     "traceback": [
      "\u001b[1;31m---------------------------------------------------------------------------\u001b[0m",
      "\u001b[1;31mValueError\u001b[0m                                Traceback (most recent call last)",
      "\u001b[1;32m~\\AppData\\Local\\Temp\\ipykernel_2584\\1305396374.py\u001b[0m in \u001b[0;36m<module>\u001b[1;34m\u001b[0m\n\u001b[1;32m----> 1\u001b[1;33m \u001b[0ma\u001b[0m\u001b[1;33m.\u001b[0m\u001b[0mresize\u001b[0m\u001b[1;33m(\u001b[0m\u001b[1;36m5\u001b[0m\u001b[1;33m,\u001b[0m\u001b[1;36m3\u001b[0m\u001b[1;33m)\u001b[0m\u001b[1;33m\u001b[0m\u001b[1;33m\u001b[0m\u001b[0m\n\u001b[0m",
      "\u001b[1;31mValueError\u001b[0m: cannot resize an array that references or is referenced\nby another array in this way.\nUse the np.resize function or refcheck=False"
     ]
    }
   ],
   "source": [
    "a.resize(5,3)"
   ]
  },
  {
   "cell_type": "code",
   "execution_count": 27,
   "id": "f553daaf",
   "metadata": {},
   "outputs": [],
   "source": [
    "a.resize(5,3,refcheck=False)"
   ]
  },
  {
   "cell_type": "code",
   "execution_count": 28,
   "id": "bf8a15c5",
   "metadata": {},
   "outputs": [
    {
     "name": "stdout",
     "output_type": "stream",
     "text": [
      "[[ 0  1  2]\n",
      " [ 3  4  5]\n",
      " [ 6  7  8]\n",
      " [ 9 10 11]\n",
      " [ 0  0  0]]\n"
     ]
    }
   ],
   "source": [
    "print(a)"
   ]
  },
  {
   "cell_type": "code",
   "execution_count": 29,
   "id": "5b3c9b96",
   "metadata": {},
   "outputs": [],
   "source": [
    " a.resize(5,2,refcheck=False)"
   ]
  },
  {
   "cell_type": "code",
   "execution_count": 30,
   "id": "d229e874",
   "metadata": {},
   "outputs": [
    {
     "name": "stdout",
     "output_type": "stream",
     "text": [
      "[[0 1]\n",
      " [2 3]\n",
      " [4 5]\n",
      " [6 7]\n",
      " [8 9]]\n"
     ]
    }
   ],
   "source": [
    "print(a)"
   ]
  },
  {
   "cell_type": "code",
   "execution_count": 2,
   "id": "064e8179",
   "metadata": {},
   "outputs": [
    {
     "name": "stdout",
     "output_type": "stream",
     "text": [
      "[ 0  1  2  3  4  5  6  7  8  9 10 11]\n",
      "[[9 9 2 5]\n",
      " [2 1 5 3]\n",
      " [4 1 1 8]]\n"
     ]
    }
   ],
   "source": [
    "import numpy as np\n",
    "a=np.arange(12)\n",
    "print(a)\n",
    "\n",
    "b=np.random.randint(1,10,(3,4))\n",
    "print(b)"
   ]
  },
  {
   "cell_type": "code",
   "execution_count": 4,
   "id": "2065cc33",
   "metadata": {},
   "outputs": [
    {
     "name": "stdout",
     "output_type": "stream",
     "text": [
      "66\n",
      "66\n",
      "50\n",
      "[25 11 14]\n",
      "[15 11  8 16]\n"
     ]
    }
   ],
   "source": [
    "print(a.sum())\n",
    "print(np.sum(a))\n",
    "print(b.sum())\n",
    "print(b.sum(axis=1)) #row wise sum\n",
    "print(b.sum(axis=0)) #column wise sum "
   ]
  },
  {
   "cell_type": "code",
   "execution_count": 8,
   "id": "2c22a103",
   "metadata": {},
   "outputs": [
    {
     "name": "stdout",
     "output_type": "stream",
     "text": [
      "5.5\n",
      "4.166666666666667\n",
      "[6.25 2.75 3.5 ]\n",
      "[5.         3.66666667 2.66666667 5.33333333]\n"
     ]
    }
   ],
   "source": [
    "print(a.mean())\n",
    "print(b.mean())\n",
    "print(b.mean(axis=1)) #row wise mean\n",
    "print(b.mean(axis=0)) #column wise mean"
   ]
  },
  {
   "cell_type": "code",
   "execution_count": 12,
   "id": "62954e4d",
   "metadata": {},
   "outputs": [
    {
     "name": "stdout",
     "output_type": "stream",
     "text": [
      "5.5\n",
      "3.5\n",
      "[7.  2.5 2.5]\n",
      "[4. 1. 2. 5.]\n"
     ]
    }
   ],
   "source": [
    "print(np.median(a))\n",
    "print(np.median(b))\n",
    "print(np.median(b,axis=1)) #row wise median\n",
    "print(np.median(b,axis=0)) #column wise median"
   ]
  },
  {
   "cell_type": "code",
   "execution_count": 15,
   "id": "04ac02ad",
   "metadata": {},
   "outputs": [
    {
     "name": "stdout",
     "output_type": "stream",
     "text": [
      "6\n"
     ]
    }
   ],
   "source": [
    "print(np.sum([1,2,3]))"
   ]
  },
  {
   "cell_type": "code",
   "execution_count": 16,
   "id": "6fd8672b",
   "metadata": {},
   "outputs": [
    {
     "name": "stdout",
     "output_type": "stream",
     "text": [
      "6\n"
     ]
    }
   ],
   "source": [
    "print(np.sum((1,2,3)))"
   ]
  },
  {
   "cell_type": "code",
   "execution_count": 18,
   "id": "57a48986",
   "metadata": {},
   "outputs": [
    {
     "data": {
      "text/plain": [
       "45"
      ]
     },
     "execution_count": 18,
     "metadata": {},
     "output_type": "execute_result"
    }
   ],
   "source": [
    "np.sum(range(10))"
   ]
  },
  {
   "cell_type": "code",
   "execution_count": 29,
   "id": "b43ec175",
   "metadata": {},
   "outputs": [
    {
     "name": "stdout",
     "output_type": "stream",
     "text": [
      "0\n",
      "0\n",
      "1\n",
      "[2 1 1]\n",
      "[2 1 1 3]\n"
     ]
    }
   ],
   "source": [
    "print(a.min()) #method\n",
    "print(np.min(a)) #function\n",
    "print(np.min(b))\n",
    "print(np.min(b,axis=1))\n",
    "print(np.min(b,axis=0))\n"
   ]
  },
  {
   "cell_type": "code",
   "execution_count": 31,
   "id": "3c2b4a72",
   "metadata": {},
   "outputs": [
    {
     "name": "stdout",
     "output_type": "stream",
     "text": [
      "11\n",
      "11\n",
      "9\n",
      "[9 5 8]\n",
      "[9 9 5 8]\n"
     ]
    }
   ],
   "source": [
    "print(a.max()) #method\n",
    "print(np.max(a)) #function\n",
    "print(np.max(b))\n",
    "print(np.max(b,axis=1))\n",
    "print(np.max(b,axis=0))"
   ]
  },
  {
   "cell_type": "code",
   "execution_count": 37,
   "id": "8239a1ae",
   "metadata": {},
   "outputs": [
    {
     "name": "stdout",
     "output_type": "stream",
     "text": [
      "[8 4 5 7 5 4 9 2 5 2]\n"
     ]
    }
   ],
   "source": [
    "a=np.random.randint(1,10,10)\n",
    "print(a)"
   ]
  },
  {
   "cell_type": "code",
   "execution_count": 39,
   "id": "6406cb13",
   "metadata": {},
   "outputs": [
    {
     "name": "stdout",
     "output_type": "stream",
     "text": [
      "2\n",
      "7\n"
     ]
    }
   ],
   "source": [
    "print(np.min(a))\n",
    "print(np.argmin(a)) #return index of min element"
   ]
  },
  {
   "cell_type": "code",
   "execution_count": 40,
   "id": "330bfadb",
   "metadata": {},
   "outputs": [
    {
     "name": "stdout",
     "output_type": "stream",
     "text": [
      "9\n",
      "6\n"
     ]
    }
   ],
   "source": [
    "print(np.max(a))\n",
    "print(np.argmax(a)) #return index of max element"
   ]
  },
  {
   "cell_type": "code",
   "execution_count": 41,
   "id": "ea7dd05b",
   "metadata": {},
   "outputs": [
    {
     "name": "stdout",
     "output_type": "stream",
     "text": [
      "[[9 9 2 5]\n",
      " [2 1 5 3]\n",
      " [4 1 1 8]]\n"
     ]
    }
   ],
   "source": [
    "#print(b)"
   ]
  },
  {
   "cell_type": "code",
   "execution_count": 47,
   "id": "5f6d67f9",
   "metadata": {},
   "outputs": [
    {
     "name": "stdout",
     "output_type": "stream",
     "text": [
      "5\n",
      "0\n",
      "[0 2 3]\n",
      "[0 0 1 2]\n"
     ]
    }
   ],
   "source": [
    "#arg- return index position of value\n",
    "\n",
    "print(b.argmin()) #firstly 2D array will be flatten and than apply #arg method\n",
    "print(b.argmax())\n",
    "print(b.argmax(axis=1))\n",
    "print(b.argmax(axis=0))"
   ]
  },
  {
   "cell_type": "markdown",
   "id": "60fcfe22",
   "metadata": {},
   "source": [
    "#### Broadcasting"
   ]
  },
  {
   "cell_type": "code",
   "execution_count": 48,
   "id": "51cc903e",
   "metadata": {},
   "outputs": [
    {
     "name": "stdout",
     "output_type": "stream",
     "text": [
      "[8 4 5 7 5 4 9 2 5 2]\n"
     ]
    }
   ],
   "source": [
    "print(a)"
   ]
  },
  {
   "cell_type": "code",
   "execution_count": 50,
   "id": "40c2371a",
   "metadata": {},
   "outputs": [],
   "source": [
    "x=[8,4,5,7,5,4,9,2,5,2]"
   ]
  },
  {
   "cell_type": "code",
   "execution_count": 51,
   "id": "2244adb2",
   "metadata": {},
   "outputs": [
    {
     "name": "stdout",
     "output_type": "stream",
     "text": [
      "[10, 6, 7, 9, 7, 6, 11, 4, 7, 4]\n"
     ]
    }
   ],
   "source": [
    "y=[]\n",
    "for i in x:\n",
    "    y.append(i+2)\n",
    "print(y)"
   ]
  },
  {
   "cell_type": "code",
   "execution_count": 63,
   "id": "1b9f9819",
   "metadata": {},
   "outputs": [
    {
     "name": "stdout",
     "output_type": "stream",
     "text": [
      "[10  6  7  9  7  6 11  4  7  4]\n"
     ]
    },
    {
     "data": {
      "text/plain": [
       "array([10,  6,  7,  9,  7,  6, 11,  4,  7,  4])"
      ]
     },
     "execution_count": 63,
     "metadata": {},
     "output_type": "execute_result"
    }
   ],
   "source": [
    "a1=a+2\n",
    "print(a1)\n",
    "a1"
   ]
  },
  {
   "cell_type": "code",
   "execution_count": 60,
   "id": "f2fbb26c",
   "metadata": {},
   "outputs": [],
   "source": [
    "#x=[10000,20000,15000,20000,30000]\n",
    "#y=[]\n",
    "#for i in x:\n",
    "#    y.append(i+i*0.05)\n",
    "#print(y)"
   ]
  },
  {
   "cell_type": "code",
   "execution_count": 64,
   "id": "325a3b9b",
   "metadata": {},
   "outputs": [
    {
     "data": {
      "text/plain": [
       "array([64, 16, 25, 49, 25, 16, 81,  4, 25,  4], dtype=int32)"
      ]
     },
     "execution_count": 64,
     "metadata": {},
     "output_type": "execute_result"
    }
   ],
   "source": [
    "np.square(a)"
   ]
  },
  {
   "cell_type": "code",
   "execution_count": 65,
   "id": "e61d43fc",
   "metadata": {},
   "outputs": [
    {
     "data": {
      "text/plain": [
       "array([2.82842712, 2.        , 2.23606798, 2.64575131, 2.23606798,\n",
       "       2.        , 3.        , 1.41421356, 2.23606798, 1.41421356])"
      ]
     },
     "execution_count": 65,
     "metadata": {},
     "output_type": "execute_result"
    }
   ],
   "source": [
    "np.sqrt(a)"
   ]
  },
  {
   "cell_type": "code",
   "execution_count": 66,
   "id": "76f13d6a",
   "metadata": {},
   "outputs": [
    {
     "data": {
      "text/plain": [
       "array([2.07944154, 1.38629436, 1.60943791, 1.94591015, 1.60943791,\n",
       "       1.38629436, 2.19722458, 0.69314718, 1.60943791, 0.69314718])"
      ]
     },
     "execution_count": 66,
     "metadata": {},
     "output_type": "execute_result"
    }
   ],
   "source": [
    "np.log(a) #base e"
   ]
  },
  {
   "cell_type": "code",
   "execution_count": 67,
   "id": "7d1b95b4",
   "metadata": {},
   "outputs": [
    {
     "data": {
      "text/plain": [
       "array([0.90308999, 0.60205999, 0.69897   , 0.84509804, 0.69897   ,\n",
       "       0.60205999, 0.95424251, 0.30103   , 0.69897   , 0.30103   ])"
      ]
     },
     "execution_count": 67,
     "metadata": {},
     "output_type": "execute_result"
    }
   ],
   "source": [
    "np.log10(a) #base 10"
   ]
  },
  {
   "cell_type": "code",
   "execution_count": 1,
   "id": "d8f7bd68",
   "metadata": {},
   "outputs": [],
   "source": [
    " import numpy as np"
   ]
  },
  {
   "cell_type": "code",
   "execution_count": 2,
   "id": "6f8c1304",
   "metadata": {},
   "outputs": [
    {
     "name": "stdout",
     "output_type": "stream",
     "text": [
      "[2 4 4 5 3 9 1 6 3 9]\n",
      "[6 1 8 7 5 7 7 2 3 8]\n"
     ]
    }
   ],
   "source": [
    "a=np.random.randint(1,10,10)\n",
    "b=np.random.randint(1,10,10)\n",
    "print(a)\n",
    "print(b)"
   ]
  },
  {
   "cell_type": "code",
   "execution_count": 4,
   "id": "992cf07e",
   "metadata": {},
   "outputs": [
    {
     "name": "stdout",
     "output_type": "stream",
     "text": [
      "[ 8  5 12 12  8 16  8  8  6 17]\n"
     ]
    }
   ],
   "source": [
    "c=a+b\n",
    "print(c)"
   ]
  },
  {
   "cell_type": "code",
   "execution_count": 5,
   "id": "87fd7eaf",
   "metadata": {},
   "outputs": [
    {
     "data": {
      "text/plain": [
       "array([12,  4, 32, 35, 15, 63,  7, 12,  9, 72])"
      ]
     },
     "execution_count": 5,
     "metadata": {},
     "output_type": "execute_result"
    }
   ],
   "source": [
    "a*b"
   ]
  },
  {
   "cell_type": "code",
   "execution_count": 6,
   "id": "fdcda723",
   "metadata": {},
   "outputs": [
    {
     "data": {
      "text/plain": [
       "array([0.33333333, 4.        , 0.5       , 0.71428571, 0.6       ,\n",
       "       1.28571429, 0.14285714, 3.        , 1.        , 1.125     ])"
      ]
     },
     "execution_count": 6,
     "metadata": {},
     "output_type": "execute_result"
    }
   ],
   "source": [
    "a/b"
   ]
  },
  {
   "cell_type": "code",
   "execution_count": 7,
   "id": "bfa66562",
   "metadata": {},
   "outputs": [
    {
     "data": {
      "text/plain": [
       "array([      64,        4,    65536,    78125,      243,  4782969,\n",
       "              1,       36,       27, 43046721], dtype=int32)"
      ]
     },
     "execution_count": 7,
     "metadata": {},
     "output_type": "execute_result"
    }
   ],
   "source": [
    "a**b"
   ]
  },
  {
   "cell_type": "code",
   "execution_count": 8,
   "id": "13c01dd2",
   "metadata": {},
   "outputs": [
    {
     "data": {
      "text/plain": [
       "array([0, 4, 0, 0, 0, 1, 0, 3, 1, 1], dtype=int32)"
      ]
     },
     "execution_count": 8,
     "metadata": {},
     "output_type": "execute_result"
    }
   ],
   "source": [
    "a//b"
   ]
  },
  {
   "cell_type": "code",
   "execution_count": 9,
   "id": "a512849c",
   "metadata": {},
   "outputs": [
    {
     "data": {
      "text/plain": [
       "array([2, 0, 4, 5, 3, 2, 1, 0, 0, 1], dtype=int32)"
      ]
     },
     "execution_count": 9,
     "metadata": {},
     "output_type": "execute_result"
    }
   ],
   "source": [
    "a%b"
   ]
  },
  {
   "cell_type": "code",
   "execution_count": 18,
   "id": "a2253425",
   "metadata": {},
   "outputs": [
    {
     "name": "stdout",
     "output_type": "stream",
     "text": [
      "[8 1 5 9 1 3 4 5 2 2]\n",
      "[9 7 1 4 8 6 9 3 4 4 6]\n"
     ]
    }
   ],
   "source": [
    "a=np.random.randint(1,10,10)\n",
    "b=np.random.randint(1,10,11)\n",
    "print(a)\n",
    "print(b)"
   ]
  },
  {
   "cell_type": "code",
   "execution_count": 11,
   "id": "055e6ab5",
   "metadata": {},
   "outputs": [
    {
     "ename": "ValueError",
     "evalue": "operands could not be broadcast together with shapes (10,) (11,) ",
     "output_type": "error",
     "traceback": [
      "\u001b[1;31m---------------------------------------------------------------------------\u001b[0m",
      "\u001b[1;31mValueError\u001b[0m                                Traceback (most recent call last)",
      "\u001b[1;32m~\\AppData\\Local\\Temp\\ipykernel_5632\\3553919051.py\u001b[0m in \u001b[0;36m<module>\u001b[1;34m\u001b[0m\n\u001b[1;32m----> 1\u001b[1;33m \u001b[0ma\u001b[0m\u001b[1;33m+\u001b[0m\u001b[0mb\u001b[0m\u001b[1;33m\u001b[0m\u001b[1;33m\u001b[0m\u001b[0m\n\u001b[0m",
      "\u001b[1;31mValueError\u001b[0m: operands could not be broadcast together with shapes (10,) (11,) "
     ]
    }
   ],
   "source": [
    "a+b"
   ]
  },
  {
   "cell_type": "code",
   "execution_count": 23,
   "id": "322ec666",
   "metadata": {},
   "outputs": [
    {
     "name": "stdout",
     "output_type": "stream",
     "text": [
      "[8 1 5 9 1 3 4 5 2 2]\n"
     ]
    }
   ],
   "source": [
    "print(a)"
   ]
  },
  {
   "cell_type": "code",
   "execution_count": 27,
   "id": "25989844",
   "metadata": {},
   "outputs": [
    {
     "name": "stdout",
     "output_type": "stream",
     "text": [
      "[1, 1, 2, 2, 3, 4, 5, 5, 8, 9]\n",
      "<class 'numpy.ndarray'>\n",
      "int32\n"
     ]
    }
   ],
   "source": [
    "print(sorted(a))\n",
    "print(type(a))\n",
    "print(a.dtype)"
   ]
  },
  {
   "cell_type": "code",
   "execution_count": 29,
   "id": "15059d81",
   "metadata": {},
   "outputs": [
    {
     "name": "stdout",
     "output_type": "stream",
     "text": [
      "[1 3 4 4 4 6 6 7 8 9 9]\n",
      "<class 'numpy.ndarray'>\n",
      "int32\n"
     ]
    }
   ],
   "source": [
    "b.sort()\n",
    "print(b)\n",
    "print(type(b))\n",
    "print(b.dtype)"
   ]
  },
  {
   "cell_type": "code",
   "execution_count": 30,
   "id": "cff303d6",
   "metadata": {},
   "outputs": [
    {
     "name": "stdout",
     "output_type": "stream",
     "text": [
      "[8 1 5 9 1 3 4 5 2 2]\n",
      "[1 3 4 4 4 6 6 7 8 9 9]\n"
     ]
    }
   ],
   "source": [
    "print(a)\n",
    "print(b)"
   ]
  },
  {
   "cell_type": "code",
   "execution_count": 34,
   "id": "6a4e815a",
   "metadata": {},
   "outputs": [
    {
     "name": "stdout",
     "output_type": "stream",
     "text": [
      "True\n",
      "True\n",
      "False\n"
     ]
    }
   ],
   "source": [
    "print(5 in a)\n",
    "print(9 in b)\n",
    "print(7 in a)"
   ]
  },
  {
   "cell_type": "code",
   "execution_count": 37,
   "id": "90ff9eba",
   "metadata": {},
   "outputs": [
    {
     "name": "stdout",
     "output_type": "stream",
     "text": [
      "(array([6], dtype=int64),)\n",
      "(array([ 9, 10], dtype=int64),)\n",
      "(array([8, 9], dtype=int64),)\n"
     ]
    }
   ],
   "source": [
    "#where\n",
    "print(np.where(a==4)) #return index position of element that full fill the condition\n",
    "print(np.where(b==9))\n",
    "print(np.where(a==2))"
   ]
  },
  {
   "cell_type": "code",
   "execution_count": 40,
   "id": "53ed4ff1",
   "metadata": {},
   "outputs": [
    {
     "name": "stdout",
     "output_type": "stream",
     "text": [
      "(array([0, 3], dtype=int64),)\n",
      "(array([0, 1], dtype=int64),)\n",
      "(array([0, 1, 2, 3, 4, 5, 6], dtype=int64),)\n"
     ]
    }
   ],
   "source": [
    "print(np.where(a>5))\n",
    "print(np.where(b<4))\n",
    "print(np.where(b<=6))"
   ]
  },
  {
   "cell_type": "code",
   "execution_count": 42,
   "id": "2f0e5c83",
   "metadata": {},
   "outputs": [
    {
     "name": "stdout",
     "output_type": "stream",
     "text": [
      "[8 1 5 9 1 3 4 5 2 2]\n",
      "[1 3 4 4 4 6 6 7 8 9 9]\n"
     ]
    }
   ],
   "source": [
    "print(a)\n",
    "print(b)"
   ]
  },
  {
   "cell_type": "code",
   "execution_count": 43,
   "id": "d637e2a7",
   "metadata": {},
   "outputs": [
    {
     "name": "stdout",
     "output_type": "stream",
     "text": [
      "[8 9]\n",
      "[1 1 3 4 2 2]\n"
     ]
    }
   ],
   "source": [
    "#boolean/conditional slicing > filter the element based on given condition\n",
    "\n",
    "print(a[a>5])\n",
    "print(a[a<5])"
   ]
  },
  {
   "cell_type": "code",
   "execution_count": 46,
   "id": "c932ff1d",
   "metadata": {},
   "outputs": [
    {
     "name": "stdout",
     "output_type": "stream",
     "text": [
      "[4 4 4 6 6 8]\n",
      "[1 3 7 9 9]\n"
     ]
    }
   ],
   "source": [
    "print(b[b%2==0]) #even element filter\n",
    "print(b[b%2==1])\n"
   ]
  },
  {
   "cell_type": "code",
   "execution_count": 47,
   "id": "25d7dffb",
   "metadata": {},
   "outputs": [
    {
     "data": {
      "text/plain": [
       "array([6, 6, 8])"
      ]
     },
     "execution_count": 47,
     "metadata": {},
     "output_type": "execute_result"
    }
   ],
   "source": [
    "c=b[b%2==0]\n",
    "c[c>5]\n"
   ]
  },
  {
   "cell_type": "code",
   "execution_count": 53,
   "id": "723f6c41",
   "metadata": {},
   "outputs": [
    {
     "data": {
      "text/plain": [
       "array([6, 6, 8])"
      ]
     },
     "execution_count": 53,
     "metadata": {},
     "output_type": "execute_result"
    }
   ],
   "source": [
    "#b[b%2==0 and b>5] #error\n",
    "#[b%2==0 & b>5] #error\n",
    "b[(b%2==0) & (b>5)]"
   ]
  },
  {
   "cell_type": "code",
   "execution_count": 55,
   "id": "06a99d1a",
   "metadata": {},
   "outputs": [
    {
     "data": {
      "text/plain": [
       "array([1, 3, 4, 4, 4, 6, 6, 8])"
      ]
     },
     "execution_count": 55,
     "metadata": {},
     "output_type": "execute_result"
    }
   ],
   "source": [
    "b[(b%2==0) | (b<5)]"
   ]
  },
  {
   "cell_type": "code",
   "execution_count": 56,
   "id": "3e916560",
   "metadata": {},
   "outputs": [
    {
     "name": "stdout",
     "output_type": "stream",
     "text": [
      "[70.59136987 48.7140951  54.32883192 97.4202302  53.13473688 66.21529544\n",
      " 61.80686747 70.55041031 80.94111119 94.57178753 78.95643565 42.71646358\n",
      " 85.43070285 54.59047605 47.74461407 56.80911358 53.54203619 56.19714684\n",
      " 65.61354628 44.6803606 ]\n"
     ]
    }
   ],
   "source": [
    "marks=np.random.uniform(40,100,20)\n",
    "print(marks)"
   ]
  },
  {
   "cell_type": "code",
   "execution_count": 57,
   "id": "8aa0e919",
   "metadata": {},
   "outputs": [
    {
     "data": {
      "text/plain": [
       "(array([ 0,  3,  5,  6,  7,  8,  9, 10, 12, 18], dtype=int64),)"
      ]
     },
     "execution_count": 57,
     "metadata": {},
     "output_type": "execute_result"
    }
   ],
   "source": [
    "np.where(marks>=60)"
   ]
  },
  {
   "cell_type": "code",
   "execution_count": 61,
   "id": "4bd797c6",
   "metadata": {},
   "outputs": [
    {
     "data": {
      "text/plain": [
       "array([70.59136987, 97.4202302 , 66.21529544, 61.80686747, 70.55041031,\n",
       "       80.94111119, 94.57178753, 78.95643565, 85.43070285, 65.61354628])"
      ]
     },
     "execution_count": 61,
     "metadata": {},
     "output_type": "execute_result"
    }
   ],
   "source": [
    "marks[marks>=60]"
   ]
  },
  {
   "cell_type": "code",
   "execution_count": 62,
   "id": "e313cd52",
   "metadata": {},
   "outputs": [],
   "source": [
    "a=np.random.randint(1,10,10)\n",
    "b=np.random.randint(1,10,10)"
   ]
  },
  {
   "cell_type": "code",
   "execution_count": 63,
   "id": "7b27db0a",
   "metadata": {},
   "outputs": [
    {
     "data": {
      "text/plain": [
       "(array([0, 7], dtype=int64),)"
      ]
     },
     "execution_count": 63,
     "metadata": {},
     "output_type": "execute_result"
    }
   ],
   "source": [
    "np.where(a==b)"
   ]
  },
  {
   "cell_type": "code",
   "execution_count": 64,
   "id": "259adf9f",
   "metadata": {},
   "outputs": [
    {
     "name": "stdout",
     "output_type": "stream",
     "text": [
      "[4 8 3 2 9 2 7 4 7 5]\n",
      "[4 4 2 3 8 7 2 4 4 6]\n"
     ]
    }
   ],
   "source": [
    "print(a)\n",
    "print(b)"
   ]
  },
  {
   "cell_type": "code",
   "execution_count": 65,
   "id": "7864455f",
   "metadata": {},
   "outputs": [
    {
     "data": {
      "text/plain": [
       "(array([1, 2, 4, 6, 8], dtype=int64),)"
      ]
     },
     "execution_count": 65,
     "metadata": {},
     "output_type": "execute_result"
    }
   ],
   "source": [
    "np.where(a>b)"
   ]
  },
  {
   "cell_type": "code",
   "execution_count": 8,
   "id": "bfe241e4",
   "metadata": {},
   "outputs": [],
   "source": [
    "import numpy as np"
   ]
  },
  {
   "cell_type": "code",
   "execution_count": 9,
   "id": "ae8e3958",
   "metadata": {},
   "outputs": [
    {
     "name": "stdout",
     "output_type": "stream",
     "text": [
      "[[3 4 1]\n",
      " [2 3 3]\n",
      " [3 1 2]]\n"
     ]
    }
   ],
   "source": [
    "a=np.random.randint(1,6,(3,3))\n",
    "print(a)"
   ]
  },
  {
   "cell_type": "code",
   "execution_count": 10,
   "id": "3e07ec20",
   "metadata": {},
   "outputs": [
    {
     "name": "stdout",
     "output_type": "stream",
     "text": [
      "[[3 2 3]\n",
      " [4 3 1]\n",
      " [1 3 2]]\n"
     ]
    }
   ],
   "source": [
    "print(np.transpose(a)) #function"
   ]
  },
  {
   "cell_type": "code",
   "execution_count": 11,
   "id": "1baec3b4",
   "metadata": {},
   "outputs": [
    {
     "name": "stdout",
     "output_type": "stream",
     "text": [
      "[[3 2 3]\n",
      " [4 3 1]\n",
      " [1 3 2]]\n"
     ]
    }
   ],
   "source": [
    "print(a.transpose()) #method"
   ]
  },
  {
   "cell_type": "code",
   "execution_count": 12,
   "id": "2c1180e2",
   "metadata": {},
   "outputs": [
    {
     "name": "stdout",
     "output_type": "stream",
     "text": [
      "[[3 2 3]\n",
      " [4 3 1]\n",
      " [1 3 2]]\n"
     ]
    }
   ],
   "source": [
    "print(a.T)"
   ]
  },
  {
   "cell_type": "code",
   "execution_count": 13,
   "id": "5a8867fd",
   "metadata": {},
   "outputs": [],
   "source": [
    "b=np.random.randint(1,6,(3,3))"
   ]
  },
  {
   "cell_type": "code",
   "execution_count": 14,
   "id": "c6a4a12a",
   "metadata": {},
   "outputs": [
    {
     "name": "stdout",
     "output_type": "stream",
     "text": [
      "[[3 4 1]\n",
      " [2 3 3]\n",
      " [3 1 2]]\n",
      "\n",
      "\n",
      "[[5 5 3]\n",
      " [3 3 2]\n",
      " [2 1 1]]\n"
     ]
    }
   ],
   "source": [
    "print(a)\n",
    "print('\\n')\n",
    "print(b)"
   ]
  },
  {
   "cell_type": "code",
   "execution_count": 15,
   "id": "2a4ff1d6",
   "metadata": {},
   "outputs": [
    {
     "data": {
      "text/plain": [
       "array([[15, 20,  3],\n",
       "       [ 6,  9,  6],\n",
       "       [ 6,  1,  2]])"
      ]
     },
     "execution_count": 15,
     "metadata": {},
     "output_type": "execute_result"
    }
   ],
   "source": [
    "a*b  #element be element multiplication"
   ]
  },
  {
   "cell_type": "code",
   "execution_count": 16,
   "id": "bc29a494",
   "metadata": {},
   "outputs": [
    {
     "data": {
      "text/plain": [
       "array([[29, 28, 18],\n",
       "       [25, 22, 15],\n",
       "       [22, 20, 13]])"
      ]
     },
     "execution_count": 16,
     "metadata": {},
     "output_type": "execute_result"
    }
   ],
   "source": [
    "#dot\n",
    "np.dot(a,b)"
   ]
  },
  {
   "cell_type": "code",
   "execution_count": 22,
   "id": "477ea65c",
   "metadata": {},
   "outputs": [
    {
     "data": {
      "text/plain": [
       "array([[37, 50],\n",
       "       [48, 68],\n",
       "       [73, 95]])"
      ]
     },
     "execution_count": 22,
     "metadata": {},
     "output_type": "execute_result"
    }
   ],
   "source": [
    "a@b"
   ]
  },
  {
   "cell_type": "code",
   "execution_count": 23,
   "id": "2c094c09",
   "metadata": {},
   "outputs": [
    {
     "ename": "ValueError",
     "evalue": "matmul: Input operand 1 has a mismatch in its core dimension 0, with gufunc signature (n?,k),(k,m?)->(n?,m?) (size 3 is different from 2)",
     "output_type": "error",
     "traceback": [
      "\u001b[1;31m---------------------------------------------------------------------------\u001b[0m",
      "\u001b[1;31mValueError\u001b[0m                                Traceback (most recent call last)",
      "\u001b[1;32m~\\AppData\\Local\\Temp\\ipykernel_4568\\2256797088.py\u001b[0m in \u001b[0;36m<module>\u001b[1;34m\u001b[0m\n\u001b[1;32m----> 1\u001b[1;33m \u001b[0mb\u001b[0m\u001b[1;33m@\u001b[0m\u001b[0ma\u001b[0m\u001b[1;33m\u001b[0m\u001b[1;33m\u001b[0m\u001b[0m\n\u001b[0m",
      "\u001b[1;31mValueError\u001b[0m: matmul: Input operand 1 has a mismatch in its core dimension 0, with gufunc signature (n?,k),(k,m?)->(n?,m?) (size 3 is different from 2)"
     ]
    }
   ],
   "source": [
    "b@a"
   ]
  },
  {
   "cell_type": "code",
   "execution_count": 18,
   "id": "457c9777",
   "metadata": {},
   "outputs": [],
   "source": [
    "a=np.random.randint(1,10,(3,3))\n",
    "b=np.random.randint(1,10,(3,2))"
   ]
  },
  {
   "cell_type": "code",
   "execution_count": 19,
   "id": "7669f5b5",
   "metadata": {},
   "outputs": [
    {
     "name": "stdout",
     "output_type": "stream",
     "text": [
      "[[3 7 3]\n",
      " [7 6 3]\n",
      " [9 4 6]]\n",
      "[[3 5]\n",
      " [1 2]\n",
      " [7 7]]\n"
     ]
    }
   ],
   "source": [
    "print(a)\n",
    "print(b)"
   ]
  },
  {
   "cell_type": "code",
   "execution_count": 20,
   "id": "77c2ad12",
   "metadata": {},
   "outputs": [
    {
     "data": {
      "text/plain": [
       "array([[37, 50],\n",
       "       [48, 68],\n",
       "       [73, 95]])"
      ]
     },
     "execution_count": 20,
     "metadata": {},
     "output_type": "execute_result"
    }
   ],
   "source": [
    "a@b"
   ]
  },
  {
   "cell_type": "code",
   "execution_count": 25,
   "id": "b3b7e1e3",
   "metadata": {},
   "outputs": [
    {
     "data": {
      "text/plain": [
       "array([[79, 55, 54],\n",
       "       [92, 75, 63]])"
      ]
     },
     "execution_count": 25,
     "metadata": {},
     "output_type": "execute_result"
    }
   ],
   "source": [
    "b.T@a"
   ]
  },
  {
   "cell_type": "code",
   "execution_count": 26,
   "id": "93856837",
   "metadata": {},
   "outputs": [
    {
     "name": "stdout",
     "output_type": "stream",
     "text": [
      "[[3 7 3]\n",
      " [7 6 3]\n",
      " [9 4 6]]\n"
     ]
    }
   ],
   "source": [
    "print(a)"
   ]
  },
  {
   "cell_type": "code",
   "execution_count": 28,
   "id": "60d226e3",
   "metadata": {},
   "outputs": [],
   "source": [
    "a=a.flatten()"
   ]
  },
  {
   "cell_type": "code",
   "execution_count": 29,
   "id": "89071aa0",
   "metadata": {},
   "outputs": [
    {
     "name": "stdout",
     "output_type": "stream",
     "text": [
      "[3 7 3 7 6 3 9 4 6]\n"
     ]
    }
   ],
   "source": [
    "print(a)"
   ]
  },
  {
   "cell_type": "code",
   "execution_count": 30,
   "id": "ee103774",
   "metadata": {},
   "outputs": [],
   "source": [
    "a[0]=8"
   ]
  },
  {
   "cell_type": "code",
   "execution_count": 31,
   "id": "b1ef92bf",
   "metadata": {},
   "outputs": [
    {
     "name": "stdout",
     "output_type": "stream",
     "text": [
      "[8 7 3 7 6 3 9 4 6]\n"
     ]
    }
   ],
   "source": [
    "print(a)"
   ]
  },
  {
   "cell_type": "code",
   "execution_count": 32,
   "id": "61b019fb",
   "metadata": {},
   "outputs": [
    {
     "data": {
      "text/plain": [
       "array([ 8,  7,  3,  7,  6,  3,  9,  4,  6, 10])"
      ]
     },
     "execution_count": 32,
     "metadata": {},
     "output_type": "execute_result"
    }
   ],
   "source": [
    "np.append(a,10)"
   ]
  },
  {
   "cell_type": "code",
   "execution_count": 33,
   "id": "260aa0b2",
   "metadata": {},
   "outputs": [
    {
     "name": "stdout",
     "output_type": "stream",
     "text": [
      "[8 7 3 7 6 3 9 4 6]\n"
     ]
    }
   ],
   "source": [
    "print(a)"
   ]
  },
  {
   "cell_type": "code",
   "execution_count": 34,
   "id": "b4e93013",
   "metadata": {},
   "outputs": [
    {
     "data": {
      "text/plain": [
       "array([ 8, 10,  7,  3,  7,  6,  3,  9,  4,  6])"
      ]
     },
     "execution_count": 34,
     "metadata": {},
     "output_type": "execute_result"
    }
   ],
   "source": [
    "np.insert(a,1,10)"
   ]
  },
  {
   "cell_type": "code",
   "execution_count": 35,
   "id": "c0564eb8",
   "metadata": {},
   "outputs": [
    {
     "data": {
      "text/plain": [
       "array([1, 2, 3, 8, 7, 3, 7, 6, 3, 9, 4, 6])"
      ]
     },
     "execution_count": 35,
     "metadata": {},
     "output_type": "execute_result"
    }
   ],
   "source": [
    "np.insert(a,0,[1,2,3])"
   ]
  },
  {
   "cell_type": "code",
   "execution_count": 36,
   "id": "b218144a",
   "metadata": {},
   "outputs": [
    {
     "data": {
      "text/plain": [
       "array([7, 3, 7, 6, 3, 9, 4, 6])"
      ]
     },
     "execution_count": 36,
     "metadata": {},
     "output_type": "execute_result"
    }
   ],
   "source": [
    "np.delete(a,0)  #index position"
   ]
  },
  {
   "cell_type": "code",
   "execution_count": 37,
   "id": "a5bc8b0c",
   "metadata": {},
   "outputs": [
    {
     "name": "stdout",
     "output_type": "stream",
     "text": [
      "[8 7 3 7 6 3 9 4 6]\n"
     ]
    },
    {
     "data": {
      "text/plain": [
       "array([8, 3, 6, 3, 4, 6])"
      ]
     },
     "execution_count": 37,
     "metadata": {},
     "output_type": "execute_result"
    }
   ],
   "source": [
    "print(a)\n",
    "np.delete(a,[1,3,6])"
   ]
  },
  {
   "cell_type": "code",
   "execution_count": 53,
   "id": "3c5f1c03",
   "metadata": {},
   "outputs": [
    {
     "name": "stdout",
     "output_type": "stream",
     "text": [
      "[1 2 4 3 3 4 4 1 4 1]\n"
     ]
    }
   ],
   "source": [
    "a=np.random.randint(1,5,10)\n",
    "print(a)"
   ]
  },
  {
   "cell_type": "code",
   "execution_count": 54,
   "id": "5ffcaa85",
   "metadata": {},
   "outputs": [
    {
     "name": "stdout",
     "output_type": "stream",
     "text": [
      "[1 2 4 0 3 4 4 1 4 1]\n"
     ]
    }
   ],
   "source": [
    "a[3]=0\n",
    "print(a)"
   ]
  },
  {
   "cell_type": "code",
   "execution_count": 55,
   "id": "313248ef",
   "metadata": {},
   "outputs": [
    {
     "data": {
      "text/plain": [
       "9"
      ]
     },
     "execution_count": 55,
     "metadata": {},
     "output_type": "execute_result"
    }
   ],
   "source": [
    "np.count_nonzero(a)"
   ]
  },
  {
   "cell_type": "code",
   "execution_count": 56,
   "id": "90b74982",
   "metadata": {},
   "outputs": [
    {
     "data": {
      "text/plain": [
       "1.4966629547095767"
      ]
     },
     "execution_count": 56,
     "metadata": {},
     "output_type": "execute_result"
    }
   ],
   "source": [
    "np.std(a)"
   ]
  },
  {
   "cell_type": "code",
   "execution_count": 60,
   "id": "1aae3001",
   "metadata": {},
   "outputs": [
    {
     "data": {
      "text/plain": [
       "2.5"
      ]
     },
     "execution_count": 60,
     "metadata": {},
     "output_type": "execute_result"
    }
   ],
   "source": [
    "np.quantile(a,0.50)"
   ]
  },
  {
   "cell_type": "code",
   "execution_count": 61,
   "id": "7c974d6b",
   "metadata": {},
   "outputs": [
    {
     "data": {
      "text/plain": [
       "array([1. , 2.5, 4. ])"
      ]
     },
     "execution_count": 61,
     "metadata": {},
     "output_type": "execute_result"
    }
   ],
   "source": [
    "np.quantile(a,[.25,.5,.75])"
   ]
  },
  {
   "cell_type": "code",
   "execution_count": 62,
   "id": "22917f0b",
   "metadata": {},
   "outputs": [
    {
     "data": {
      "text/plain": [
       "array([1. , 2.5, 3.4])"
      ]
     },
     "execution_count": 62,
     "metadata": {},
     "output_type": "execute_result"
    }
   ],
   "source": [
    "np.quantile(a,[.2,.5,.6])"
   ]
  },
  {
   "cell_type": "code",
   "execution_count": 63,
   "id": "78de603a",
   "metadata": {},
   "outputs": [
    {
     "data": {
      "text/plain": [
       "array([1.  , 2.05, 4.  ])"
      ]
     },
     "execution_count": 63,
     "metadata": {},
     "output_type": "execute_result"
    }
   ],
   "source": [
    "np.quantile(a,[.15,.45,.85])"
   ]
  },
  {
   "cell_type": "code",
   "execution_count": null,
   "id": "9525dc3c",
   "metadata": {},
   "outputs": [],
   "source": []
  }
 ],
 "metadata": {
  "kernelspec": {
   "display_name": "Python 3 (ipykernel)",
   "language": "python",
   "name": "python3"
  },
  "language_info": {
   "codemirror_mode": {
    "name": "ipython",
    "version": 3
   },
   "file_extension": ".py",
   "mimetype": "text/x-python",
   "name": "python",
   "nbconvert_exporter": "python",
   "pygments_lexer": "ipython3",
   "version": "3.9.13"
  }
 },
 "nbformat": 4,
 "nbformat_minor": 5
}
